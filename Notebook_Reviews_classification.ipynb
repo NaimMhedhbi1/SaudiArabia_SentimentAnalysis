{
  "cells": [
    {
      "cell_type": "markdown",
      "metadata": {
        "id": "M27qF7CTrBqc"
      },
      "source": [
        "# TASK #1: UNDERSTAND THE PROBLEM STATEMENT AND BUSINESS CASE"
      ]
    },
    {
      "cell_type": "markdown",
      "metadata": {
        "id": "FxFb0CQ-cgr6"
      },
      "source": [
        "![image.png](attachment:image.png)"
      ]
    },
    {
      "cell_type": "markdown",
      "metadata": {
        "id": "VbX0jYELZend"
      },
      "source": [
        "data source: https://www.kaggle.com/sid321axn/amazon-alexa-reviews/kernels"
      ]
    },
    {
      "cell_type": "markdown",
      "metadata": {
        "id": "uAE6Icc0uylP"
      },
      "source": [
        "# TASK #2: IMPORT LIBRARIES AND DATASETS"
      ]
    },
    {
      "cell_type": "code",
      "source": [
        "!pip install jupyterthemes"
      ],
      "metadata": {
        "id": "G0dz1JI_dufy"
      },
      "execution_count": null,
      "outputs": []
    },
    {
      "cell_type": "code",
      "execution_count": 2,
      "metadata": {
        "id": "YBp2qDPb8pDo",
        "colab": {
          "base_uri": "https://localhost:8080/"
        },
        "outputId": "11f0ba1f-b47a-4ca7-ed8c-047bbdef58cd"
      },
      "outputs": [
        {
          "output_type": "stream",
          "name": "stderr",
          "text": [
            "[nltk_data] Downloading package stopwords to /root/nltk_data...\n",
            "[nltk_data]   Unzipping corpora/stopwords.zip.\n",
            "[nltk_data] Downloading package wordnet to /root/nltk_data...\n",
            "[nltk_data] Downloading package omw-1.4 to /root/nltk_data...\n"
          ]
        }
      ],
      "source": [
        "import pandas as pd\n",
        "import numpy as np\n",
        "import seaborn as sns\n",
        "import matplotlib.pyplot as plt\n",
        "import nltk\n",
        "from jupyterthemes import jtplot\n",
        "jtplot.style(theme='monokai', context='notebook', ticks=True, grid=False) \n",
        "# setting the style of the notebook to be monokai theme  \n",
        "# this line of code is important to ensure that we are able to see the x and y axes clearly\n",
        "# If you don't run this code line, you will notice that the xlabel and ylabel on any plot is black on black and it will be hard to see them. \n",
        "#import libraries \n",
        "import re\n",
        "import string\n",
        "import nltk\n",
        "from nltk.stem import PorterStemmer\n",
        "from nltk.stem.wordnet import WordNetLemmatizer\n",
        "import spacy\n",
        "import nltk\n",
        "nltk.download('stopwords')\n",
        "nltk.download('wordnet')\n",
        "nltk.download('omw-1.4')\n",
        "from nltk.corpus import stopwords\n",
        "stop = stopwords.words('english')"
      ]
    },
    {
      "cell_type": "code",
      "source": [
        "#connect to google drive\n",
        "from google.colab import drive\n",
        "drive.mount('/content/drive') "
      ],
      "metadata": {
        "colab": {
          "base_uri": "https://localhost:8080/"
        },
        "id": "9i8D2TW7c-Lb",
        "outputId": "acce45c1-ff8e-4d7f-9bad-cbe76c1c8e18"
      },
      "execution_count": 3,
      "outputs": [
        {
          "output_type": "stream",
          "name": "stdout",
          "text": [
            "Mounted at /content/drive\n"
          ]
        }
      ]
    },
    {
      "cell_type": "code",
      "execution_count": 4,
      "metadata": {
        "id": "tjIiJdM4u1IE",
        "outputId": "2b6a8432-a7b0-43bf-9ac8-78fc27d985b9",
        "colab": {
          "base_uri": "https://localhost:8080/",
          "height": 423
        }
      },
      "outputs": [
        {
          "output_type": "execute_result",
          "data": {
            "text/plain": [
              "      rating       date         variation  \\\n",
              "0          5  31-Jul-18  Charcoal Fabric    \n",
              "1          5  31-Jul-18  Charcoal Fabric    \n",
              "2          4  31-Jul-18    Walnut Finish    \n",
              "3          5  31-Jul-18  Charcoal Fabric    \n",
              "4          5  31-Jul-18  Charcoal Fabric    \n",
              "...      ...        ...               ...   \n",
              "3145       5  30-Jul-18        Black  Dot   \n",
              "3146       5  30-Jul-18        Black  Dot   \n",
              "3147       5  30-Jul-18        Black  Dot   \n",
              "3148       5  30-Jul-18        White  Dot   \n",
              "3149       4  29-Jul-18        Black  Dot   \n",
              "\n",
              "                                       verified_reviews  feedback  \n",
              "0                                         Love my Echo!         1  \n",
              "1                                             Loved it!         1  \n",
              "2     Sometimes while playing a game, you can answer...         1  \n",
              "3     I have had a lot of fun with this thing. My 4 ...         1  \n",
              "4                                                 Music         1  \n",
              "...                                                 ...       ...  \n",
              "3145  Perfect for kids, adults and everyone in betwe...         1  \n",
              "3146  Listening to music, searching locations, check...         1  \n",
              "3147  I do love these things, i have them running my...         1  \n",
              "3148  Only complaint I have is that the sound qualit...         1  \n",
              "3149                                               Good         1  \n",
              "\n",
              "[3150 rows x 5 columns]"
            ],
            "text/html": [
              "\n",
              "  <div id=\"df-bafee079-d702-475b-ba84-abccf37caf1c\">\n",
              "    <div class=\"colab-df-container\">\n",
              "      <div>\n",
              "<style scoped>\n",
              "    .dataframe tbody tr th:only-of-type {\n",
              "        vertical-align: middle;\n",
              "    }\n",
              "\n",
              "    .dataframe tbody tr th {\n",
              "        vertical-align: top;\n",
              "    }\n",
              "\n",
              "    .dataframe thead th {\n",
              "        text-align: right;\n",
              "    }\n",
              "</style>\n",
              "<table border=\"1\" class=\"dataframe\">\n",
              "  <thead>\n",
              "    <tr style=\"text-align: right;\">\n",
              "      <th></th>\n",
              "      <th>rating</th>\n",
              "      <th>date</th>\n",
              "      <th>variation</th>\n",
              "      <th>verified_reviews</th>\n",
              "      <th>feedback</th>\n",
              "    </tr>\n",
              "  </thead>\n",
              "  <tbody>\n",
              "    <tr>\n",
              "      <th>0</th>\n",
              "      <td>5</td>\n",
              "      <td>31-Jul-18</td>\n",
              "      <td>Charcoal Fabric</td>\n",
              "      <td>Love my Echo!</td>\n",
              "      <td>1</td>\n",
              "    </tr>\n",
              "    <tr>\n",
              "      <th>1</th>\n",
              "      <td>5</td>\n",
              "      <td>31-Jul-18</td>\n",
              "      <td>Charcoal Fabric</td>\n",
              "      <td>Loved it!</td>\n",
              "      <td>1</td>\n",
              "    </tr>\n",
              "    <tr>\n",
              "      <th>2</th>\n",
              "      <td>4</td>\n",
              "      <td>31-Jul-18</td>\n",
              "      <td>Walnut Finish</td>\n",
              "      <td>Sometimes while playing a game, you can answer...</td>\n",
              "      <td>1</td>\n",
              "    </tr>\n",
              "    <tr>\n",
              "      <th>3</th>\n",
              "      <td>5</td>\n",
              "      <td>31-Jul-18</td>\n",
              "      <td>Charcoal Fabric</td>\n",
              "      <td>I have had a lot of fun with this thing. My 4 ...</td>\n",
              "      <td>1</td>\n",
              "    </tr>\n",
              "    <tr>\n",
              "      <th>4</th>\n",
              "      <td>5</td>\n",
              "      <td>31-Jul-18</td>\n",
              "      <td>Charcoal Fabric</td>\n",
              "      <td>Music</td>\n",
              "      <td>1</td>\n",
              "    </tr>\n",
              "    <tr>\n",
              "      <th>...</th>\n",
              "      <td>...</td>\n",
              "      <td>...</td>\n",
              "      <td>...</td>\n",
              "      <td>...</td>\n",
              "      <td>...</td>\n",
              "    </tr>\n",
              "    <tr>\n",
              "      <th>3145</th>\n",
              "      <td>5</td>\n",
              "      <td>30-Jul-18</td>\n",
              "      <td>Black  Dot</td>\n",
              "      <td>Perfect for kids, adults and everyone in betwe...</td>\n",
              "      <td>1</td>\n",
              "    </tr>\n",
              "    <tr>\n",
              "      <th>3146</th>\n",
              "      <td>5</td>\n",
              "      <td>30-Jul-18</td>\n",
              "      <td>Black  Dot</td>\n",
              "      <td>Listening to music, searching locations, check...</td>\n",
              "      <td>1</td>\n",
              "    </tr>\n",
              "    <tr>\n",
              "      <th>3147</th>\n",
              "      <td>5</td>\n",
              "      <td>30-Jul-18</td>\n",
              "      <td>Black  Dot</td>\n",
              "      <td>I do love these things, i have them running my...</td>\n",
              "      <td>1</td>\n",
              "    </tr>\n",
              "    <tr>\n",
              "      <th>3148</th>\n",
              "      <td>5</td>\n",
              "      <td>30-Jul-18</td>\n",
              "      <td>White  Dot</td>\n",
              "      <td>Only complaint I have is that the sound qualit...</td>\n",
              "      <td>1</td>\n",
              "    </tr>\n",
              "    <tr>\n",
              "      <th>3149</th>\n",
              "      <td>4</td>\n",
              "      <td>29-Jul-18</td>\n",
              "      <td>Black  Dot</td>\n",
              "      <td>Good</td>\n",
              "      <td>1</td>\n",
              "    </tr>\n",
              "  </tbody>\n",
              "</table>\n",
              "<p>3150 rows × 5 columns</p>\n",
              "</div>\n",
              "      <button class=\"colab-df-convert\" onclick=\"convertToInteractive('df-bafee079-d702-475b-ba84-abccf37caf1c')\"\n",
              "              title=\"Convert this dataframe to an interactive table.\"\n",
              "              style=\"display:none;\">\n",
              "        \n",
              "  <svg xmlns=\"http://www.w3.org/2000/svg\" height=\"24px\"viewBox=\"0 0 24 24\"\n",
              "       width=\"24px\">\n",
              "    <path d=\"M0 0h24v24H0V0z\" fill=\"none\"/>\n",
              "    <path d=\"M18.56 5.44l.94 2.06.94-2.06 2.06-.94-2.06-.94-.94-2.06-.94 2.06-2.06.94zm-11 1L8.5 8.5l.94-2.06 2.06-.94-2.06-.94L8.5 2.5l-.94 2.06-2.06.94zm10 10l.94 2.06.94-2.06 2.06-.94-2.06-.94-.94-2.06-.94 2.06-2.06.94z\"/><path d=\"M17.41 7.96l-1.37-1.37c-.4-.4-.92-.59-1.43-.59-.52 0-1.04.2-1.43.59L10.3 9.45l-7.72 7.72c-.78.78-.78 2.05 0 2.83L4 21.41c.39.39.9.59 1.41.59.51 0 1.02-.2 1.41-.59l7.78-7.78 2.81-2.81c.8-.78.8-2.07 0-2.86zM5.41 20L4 18.59l7.72-7.72 1.47 1.35L5.41 20z\"/>\n",
              "  </svg>\n",
              "      </button>\n",
              "      \n",
              "  <style>\n",
              "    .colab-df-container {\n",
              "      display:flex;\n",
              "      flex-wrap:wrap;\n",
              "      gap: 12px;\n",
              "    }\n",
              "\n",
              "    .colab-df-convert {\n",
              "      background-color: #E8F0FE;\n",
              "      border: none;\n",
              "      border-radius: 50%;\n",
              "      cursor: pointer;\n",
              "      display: none;\n",
              "      fill: #1967D2;\n",
              "      height: 32px;\n",
              "      padding: 0 0 0 0;\n",
              "      width: 32px;\n",
              "    }\n",
              "\n",
              "    .colab-df-convert:hover {\n",
              "      background-color: #E2EBFA;\n",
              "      box-shadow: 0px 1px 2px rgba(60, 64, 67, 0.3), 0px 1px 3px 1px rgba(60, 64, 67, 0.15);\n",
              "      fill: #174EA6;\n",
              "    }\n",
              "\n",
              "    [theme=dark] .colab-df-convert {\n",
              "      background-color: #3B4455;\n",
              "      fill: #D2E3FC;\n",
              "    }\n",
              "\n",
              "    [theme=dark] .colab-df-convert:hover {\n",
              "      background-color: #434B5C;\n",
              "      box-shadow: 0px 1px 3px 1px rgba(0, 0, 0, 0.15);\n",
              "      filter: drop-shadow(0px 1px 2px rgba(0, 0, 0, 0.3));\n",
              "      fill: #FFFFFF;\n",
              "    }\n",
              "  </style>\n",
              "\n",
              "      <script>\n",
              "        const buttonEl =\n",
              "          document.querySelector('#df-bafee079-d702-475b-ba84-abccf37caf1c button.colab-df-convert');\n",
              "        buttonEl.style.display =\n",
              "          google.colab.kernel.accessAllowed ? 'block' : 'none';\n",
              "\n",
              "        async function convertToInteractive(key) {\n",
              "          const element = document.querySelector('#df-bafee079-d702-475b-ba84-abccf37caf1c');\n",
              "          const dataTable =\n",
              "            await google.colab.kernel.invokeFunction('convertToInteractive',\n",
              "                                                     [key], {});\n",
              "          if (!dataTable) return;\n",
              "\n",
              "          const docLinkHtml = 'Like what you see? Visit the ' +\n",
              "            '<a target=\"_blank\" href=https://colab.research.google.com/notebooks/data_table.ipynb>data table notebook</a>'\n",
              "            + ' to learn more about interactive tables.';\n",
              "          element.innerHTML = '';\n",
              "          dataTable['output_type'] = 'display_data';\n",
              "          await google.colab.output.renderOutput(dataTable, element);\n",
              "          const docLink = document.createElement('div');\n",
              "          docLink.innerHTML = docLinkHtml;\n",
              "          element.appendChild(docLink);\n",
              "        }\n",
              "      </script>\n",
              "    </div>\n",
              "  </div>\n",
              "  "
            ]
          },
          "metadata": {},
          "execution_count": 4
        }
      ],
      "source": [
        "# Load the data\n",
        "reviews_df = pd.read_csv('/content/drive/MyDrive/Dash_plotly_home/amazon_reviews.csv') #you should change the path \n",
        "reviews_df"
      ]
    },
    {
      "cell_type": "code",
      "source": [
        "# Load spacy\n",
        "nlp = spacy.load('en_core_web_sm')\n",
        "\n",
        "def clean_string(text, stem=\"None\"):\n",
        "\n",
        "    final_string = \"\"\n",
        "\n",
        "    # Make lower\n",
        "    text = text.lower()\n",
        "\n",
        "    # Remove line breaks\n",
        "    text = re.sub(r'\\n', '', text)\n",
        "    \n",
        "\n",
        "    # Remove puncuation\n",
        "    translator = str.maketrans('', '', string.punctuation)\n",
        "    text = text.translate(translator)\n",
        "\n",
        "    # Remove stop words\n",
        "    text = text.split()\n",
        "    \n",
        "    useless_words = ['hi', 'im']\n",
        "\n",
        "    text_filtered = [word for word in text if not word in useless_words]\n",
        "\n",
        "    # Remove numbers\n",
        "    text_filtered = [re.sub(r'\\w*\\d\\w*', '', w) for w in text_filtered]\n",
        "\n",
        "\n",
        "    if stem == 'Lem':\n",
        "        lem = WordNetLemmatizer()\n",
        "        text_stemmed = [lem.lemmatize(y) for y in text_filtered]\n",
        "\n",
        "    final_string = ' '.join(text_stemmed)\n",
        "\n",
        "    return final_string"
      ],
      "metadata": {
        "id": "mYDXT5GCP-JN"
      },
      "execution_count": 5,
      "outputs": []
    },
    {
      "cell_type": "code",
      "source": [
        "reviews_df['verified_reviews'] = reviews_df['verified_reviews'].apply(lambda x: clean_string(x, stem='Lem')) #apply the function clean_string\n",
        "reviews_df['verified_reviews'] = reviews_df['verified_reviews'].apply(lambda x: ' '.join([word for word in x.split() if word not in (stop)])) #remove stop words from the column. "
      ],
      "metadata": {
        "id": "lPlnXPNcQLQL"
      },
      "execution_count": 6,
      "outputs": []
    },
    {
      "cell_type": "code",
      "source": [
        "#reviews_df['variation'].value_counts()"
      ],
      "metadata": {
        "id": "wQG98HB4sBbu"
      },
      "execution_count": 7,
      "outputs": []
    },
    {
      "cell_type": "code",
      "execution_count": 8,
      "metadata": {
        "id": "RUt2ON_UxyYk"
      },
      "outputs": [],
      "source": [
        "# View the DataFrame Information\n",
        "#reviews_df.info()"
      ]
    },
    {
      "cell_type": "code",
      "source": [
        "import pandas as pd   #create the Date receiced column that will be used later in the dashbboard\n",
        "reviews_df['Date received'] = pd.to_datetime(reviews_df['date'].str.strip(), infer_datetime_format=True)\n",
        "reviews_df['Date received'] = pd.to_datetime(reviews_df['Date received'].dt.strftime('%m-%d-%Y'))"
      ],
      "metadata": {
        "id": "inykIwB6Yl9k"
      },
      "execution_count": 9,
      "outputs": []
    },
    {
      "cell_type": "code",
      "source": [
        "min_date = reviews_df[\"Date received\"].min()\n",
        "max_date = reviews_df[\"Date received\"].max()\n",
        "max_date\n",
        "#these values will be used later in the dashboard"
      ],
      "metadata": {
        "colab": {
          "base_uri": "https://localhost:8080/"
        },
        "id": "iVpCkXX7kRJ_",
        "outputId": "6c4977df-a975-456c-c76e-d97dddbfe1d1"
      },
      "execution_count": 10,
      "outputs": [
        {
          "output_type": "execute_result",
          "data": {
            "text/plain": [
              "Timestamp('2018-07-31 00:00:00')"
            ]
          },
          "metadata": {},
          "execution_count": 10
        }
      ]
    },
    {
      "cell_type": "code",
      "source": [
        "#reviews_df  # format=\"%m/%d/%Y\" #this format is required in the dash"
      ],
      "metadata": {
        "id": "q5O4Mh9vZIyN"
      },
      "execution_count": 11,
      "outputs": []
    },
    {
      "cell_type": "code",
      "execution_count": 12,
      "metadata": {
        "id": "hMq3-KWOx0e1"
      },
      "outputs": [],
      "source": [
        "# View DataFrame Statistical Summary\n",
        "#reviews_df.describe()"
      ]
    },
    {
      "cell_type": "markdown",
      "metadata": {
        "id": "xF-c5PBBcgsP"
      },
      "source": [
        "**MINI CHALLENGE #1:** \n",
        "- **Drop the 'date' column from the DataFrame** \n",
        "- **Ensure that the column has been succesfully dropped** "
      ]
    },
    {
      "cell_type": "code",
      "execution_count": 13,
      "metadata": {
        "id": "0or3Bf7ZcgsR"
      },
      "outputs": [],
      "source": [
        "reviews_df = reviews_df.drop(['date'], axis=1)\n",
        "#reviews_df.head()"
      ]
    },
    {
      "cell_type": "markdown",
      "source": [
        "# Bigram Part"
      ],
      "metadata": {
        "id": "5w38gvjrQpHT"
      }
    },
    {
      "cell_type": "code",
      "source": [
        "#bigrams_EDA , cleaning for the bigram extraction task\n",
        "bigram_freq = lambda s: list(nltk.FreqDist(nltk.bigrams(s.split(\" \"))).items())\n",
        "reviewss_df = reviews_df.copy()\n",
        "reviewss_df['bigrams']= reviewss_df['verified_reviews'].apply(bigram_freq)\n",
        "reviewss_df =reviewss_df.explode('bigrams')\n",
        "reviewss_df['bigram'], reviewss_df['b'] = reviewss_df.bigrams.str\n",
        "\n",
        "def remove_emojis(data):\n",
        "    emoj = re.compile(\"[\"\n",
        "        u\"\\U0001F600-\\U0001F64F\"  # emoticons\n",
        "        u\"\\U0001F300-\\U0001F5FF\"  # symbols & pictographs\n",
        "        u\"\\U0001F680-\\U0001F6FF\"  # transport & map symbols\n",
        "        u\"\\U0001F1E0-\\U0001F1FF\"  # flags (iOS)\n",
        "        u\"\\U00002500-\\U00002BEF\"  # chinese char\n",
        "        u\"\\U00002702-\\U000027B0\"\n",
        "        u\"\\U00002702-\\U000027B0\"\n",
        "        u\"\\U000024C2-\\U0001F251\"\n",
        "        u\"\\U0001f926-\\U0001f937\"\n",
        "        u\"\\U00010000-\\U0010ffff\"\n",
        "        u\"\\u2640-\\u2642\" \n",
        "        u\"\\u2600-\\u2B55\"\n",
        "        u\"\\u200d\"\n",
        "        u\"\\u23cf\"\n",
        "        u\"\\u23e9\"\n",
        "        u\"\\u231a\"\n",
        "        u\"\\ufe0f\"  # dingbats\n",
        "        u\"\\u3030\" \"]+\", re.UNICODE)\n",
        "    return re.sub(emoj, '', str(data)) \n",
        "\n",
        "reviewss_df['bigram'] = reviewss_df.apply(lambda x: remove_emojis(x.bigram), axis=1)\n",
        "reviewss_df['bigram'] = reviewss_df['bigram'].astype(str).str.replace(\"(\", \"\")\n",
        "reviewss_df['bigram'] = reviewss_df['bigram'].astype(str).str.replace(\"[!@#$]\", \"\") \n",
        "reviewss_df['bigram'] = reviewss_df['bigram'].astype(str).str.replace(\")\", \"\")\n",
        "reviewss_df['bigram'] = reviewss_df['bigram'].astype(str).str.replace(\"'\", \"\")\n",
        "reviewss_df['bigram'] = reviewss_df['bigram'].astype(str).str.replace(\"'\", \"\")\n",
        "reviewss_df['bigram'] = reviewss_df['bigram'].astype(str).str.replace(\",\", \"_\")\n",
        "reviewss_df['bigram'] = reviewss_df['bigram'].astype(str).str.replace(\"_ \", \"_\")\n",
        "reviewss_df['bigram'] = reviewss_df['bigram'].astype(str).str.replace(\" _\", \"_\")\n",
        "del reviewss_df['b']\n",
        "bigram_df =reviewss_df.groupby(['bigram','variation']).size().reset_index() \n",
        "bigram_df = bigram_df.rename(columns={0: 'value', 'variation': 'company','bigram':'ngram'})# the output is a dataframe with bigrams grouped by varitation with count. "
      ],
      "metadata": {
        "colab": {
          "base_uri": "https://localhost:8080/"
        },
        "id": "0RFnMuRMQwXr",
        "outputId": "83cf21cb-1ac1-4619-90b9-3645d859dcb6"
      },
      "execution_count": 14,
      "outputs": [
        {
          "output_type": "stream",
          "name": "stderr",
          "text": [
            "<ipython-input-14-74279bd3728f>:6: FutureWarning: Columnar iteration over characters will be deprecated in future releases.\n",
            "  reviewss_df['bigram'], reviewss_df['b'] = reviewss_df.bigrams.str\n",
            "<ipython-input-14-74279bd3728f>:31: FutureWarning: The default value of regex will change from True to False in a future version. In addition, single character regular expressions will *not* be treated as literal strings when regex=True.\n",
            "  reviewss_df['bigram'] = reviewss_df['bigram'].astype(str).str.replace(\"(\", \"\")\n",
            "<ipython-input-14-74279bd3728f>:32: FutureWarning: The default value of regex will change from True to False in a future version.\n",
            "  reviewss_df['bigram'] = reviewss_df['bigram'].astype(str).str.replace(\"[!@#$]\", \"\")\n",
            "<ipython-input-14-74279bd3728f>:33: FutureWarning: The default value of regex will change from True to False in a future version. In addition, single character regular expressions will *not* be treated as literal strings when regex=True.\n",
            "  reviewss_df['bigram'] = reviewss_df['bigram'].astype(str).str.replace(\")\", \"\")\n"
          ]
        }
      ]
    },
    {
      "cell_type": "code",
      "source": [
        "bigram_df"
      ],
      "metadata": {
        "colab": {
          "base_uri": "https://localhost:8080/",
          "height": 423
        },
        "id": "dJZJBoDlRo1a",
        "outputId": "8d38144b-ab8f-4f8f-ac53-956a8b92155c"
      },
      "execution_count": 15,
      "outputs": [
        {
          "output_type": "execute_result",
          "data": {
            "text/plain": [
              "                ngram           company  value\n",
              "0             _course       Black  Plus      1\n",
              "1           _download       Black  Spot      1\n",
              "2            _haven’t       Black  Spot      1\n",
              "3               _love       Black  Spot      1\n",
              "4               _much             Black      1\n",
              "...               ...               ...    ...\n",
              "27074  “white”_option       White  Show      1\n",
              "27075    “your”_music  Charcoal Fabric       2\n",
              "27076         ”_alexa       Black  Spot      1\n",
              "27077          ”_good       Black  Spot      1\n",
              "27078         ⏰_music       Black  Spot      1\n",
              "\n",
              "[27079 rows x 3 columns]"
            ],
            "text/html": [
              "\n",
              "  <div id=\"df-b54de034-e1f4-46c0-98e2-037d00379800\">\n",
              "    <div class=\"colab-df-container\">\n",
              "      <div>\n",
              "<style scoped>\n",
              "    .dataframe tbody tr th:only-of-type {\n",
              "        vertical-align: middle;\n",
              "    }\n",
              "\n",
              "    .dataframe tbody tr th {\n",
              "        vertical-align: top;\n",
              "    }\n",
              "\n",
              "    .dataframe thead th {\n",
              "        text-align: right;\n",
              "    }\n",
              "</style>\n",
              "<table border=\"1\" class=\"dataframe\">\n",
              "  <thead>\n",
              "    <tr style=\"text-align: right;\">\n",
              "      <th></th>\n",
              "      <th>ngram</th>\n",
              "      <th>company</th>\n",
              "      <th>value</th>\n",
              "    </tr>\n",
              "  </thead>\n",
              "  <tbody>\n",
              "    <tr>\n",
              "      <th>0</th>\n",
              "      <td>_course</td>\n",
              "      <td>Black  Plus</td>\n",
              "      <td>1</td>\n",
              "    </tr>\n",
              "    <tr>\n",
              "      <th>1</th>\n",
              "      <td>_download</td>\n",
              "      <td>Black  Spot</td>\n",
              "      <td>1</td>\n",
              "    </tr>\n",
              "    <tr>\n",
              "      <th>2</th>\n",
              "      <td>_haven’t</td>\n",
              "      <td>Black  Spot</td>\n",
              "      <td>1</td>\n",
              "    </tr>\n",
              "    <tr>\n",
              "      <th>3</th>\n",
              "      <td>_love</td>\n",
              "      <td>Black  Spot</td>\n",
              "      <td>1</td>\n",
              "    </tr>\n",
              "    <tr>\n",
              "      <th>4</th>\n",
              "      <td>_much</td>\n",
              "      <td>Black</td>\n",
              "      <td>1</td>\n",
              "    </tr>\n",
              "    <tr>\n",
              "      <th>...</th>\n",
              "      <td>...</td>\n",
              "      <td>...</td>\n",
              "      <td>...</td>\n",
              "    </tr>\n",
              "    <tr>\n",
              "      <th>27074</th>\n",
              "      <td>“white”_option</td>\n",
              "      <td>White  Show</td>\n",
              "      <td>1</td>\n",
              "    </tr>\n",
              "    <tr>\n",
              "      <th>27075</th>\n",
              "      <td>“your”_music</td>\n",
              "      <td>Charcoal Fabric</td>\n",
              "      <td>2</td>\n",
              "    </tr>\n",
              "    <tr>\n",
              "      <th>27076</th>\n",
              "      <td>”_alexa</td>\n",
              "      <td>Black  Spot</td>\n",
              "      <td>1</td>\n",
              "    </tr>\n",
              "    <tr>\n",
              "      <th>27077</th>\n",
              "      <td>”_good</td>\n",
              "      <td>Black  Spot</td>\n",
              "      <td>1</td>\n",
              "    </tr>\n",
              "    <tr>\n",
              "      <th>27078</th>\n",
              "      <td>⏰_music</td>\n",
              "      <td>Black  Spot</td>\n",
              "      <td>1</td>\n",
              "    </tr>\n",
              "  </tbody>\n",
              "</table>\n",
              "<p>27079 rows × 3 columns</p>\n",
              "</div>\n",
              "      <button class=\"colab-df-convert\" onclick=\"convertToInteractive('df-b54de034-e1f4-46c0-98e2-037d00379800')\"\n",
              "              title=\"Convert this dataframe to an interactive table.\"\n",
              "              style=\"display:none;\">\n",
              "        \n",
              "  <svg xmlns=\"http://www.w3.org/2000/svg\" height=\"24px\"viewBox=\"0 0 24 24\"\n",
              "       width=\"24px\">\n",
              "    <path d=\"M0 0h24v24H0V0z\" fill=\"none\"/>\n",
              "    <path d=\"M18.56 5.44l.94 2.06.94-2.06 2.06-.94-2.06-.94-.94-2.06-.94 2.06-2.06.94zm-11 1L8.5 8.5l.94-2.06 2.06-.94-2.06-.94L8.5 2.5l-.94 2.06-2.06.94zm10 10l.94 2.06.94-2.06 2.06-.94-2.06-.94-.94-2.06-.94 2.06-2.06.94z\"/><path d=\"M17.41 7.96l-1.37-1.37c-.4-.4-.92-.59-1.43-.59-.52 0-1.04.2-1.43.59L10.3 9.45l-7.72 7.72c-.78.78-.78 2.05 0 2.83L4 21.41c.39.39.9.59 1.41.59.51 0 1.02-.2 1.41-.59l7.78-7.78 2.81-2.81c.8-.78.8-2.07 0-2.86zM5.41 20L4 18.59l7.72-7.72 1.47 1.35L5.41 20z\"/>\n",
              "  </svg>\n",
              "      </button>\n",
              "      \n",
              "  <style>\n",
              "    .colab-df-container {\n",
              "      display:flex;\n",
              "      flex-wrap:wrap;\n",
              "      gap: 12px;\n",
              "    }\n",
              "\n",
              "    .colab-df-convert {\n",
              "      background-color: #E8F0FE;\n",
              "      border: none;\n",
              "      border-radius: 50%;\n",
              "      cursor: pointer;\n",
              "      display: none;\n",
              "      fill: #1967D2;\n",
              "      height: 32px;\n",
              "      padding: 0 0 0 0;\n",
              "      width: 32px;\n",
              "    }\n",
              "\n",
              "    .colab-df-convert:hover {\n",
              "      background-color: #E2EBFA;\n",
              "      box-shadow: 0px 1px 2px rgba(60, 64, 67, 0.3), 0px 1px 3px 1px rgba(60, 64, 67, 0.15);\n",
              "      fill: #174EA6;\n",
              "    }\n",
              "\n",
              "    [theme=dark] .colab-df-convert {\n",
              "      background-color: #3B4455;\n",
              "      fill: #D2E3FC;\n",
              "    }\n",
              "\n",
              "    [theme=dark] .colab-df-convert:hover {\n",
              "      background-color: #434B5C;\n",
              "      box-shadow: 0px 1px 3px 1px rgba(0, 0, 0, 0.15);\n",
              "      filter: drop-shadow(0px 1px 2px rgba(0, 0, 0, 0.3));\n",
              "      fill: #FFFFFF;\n",
              "    }\n",
              "  </style>\n",
              "\n",
              "      <script>\n",
              "        const buttonEl =\n",
              "          document.querySelector('#df-b54de034-e1f4-46c0-98e2-037d00379800 button.colab-df-convert');\n",
              "        buttonEl.style.display =\n",
              "          google.colab.kernel.accessAllowed ? 'block' : 'none';\n",
              "\n",
              "        async function convertToInteractive(key) {\n",
              "          const element = document.querySelector('#df-b54de034-e1f4-46c0-98e2-037d00379800');\n",
              "          const dataTable =\n",
              "            await google.colab.kernel.invokeFunction('convertToInteractive',\n",
              "                                                     [key], {});\n",
              "          if (!dataTable) return;\n",
              "\n",
              "          const docLinkHtml = 'Like what you see? Visit the ' +\n",
              "            '<a target=\"_blank\" href=https://colab.research.google.com/notebooks/data_table.ipynb>data table notebook</a>'\n",
              "            + ' to learn more about interactive tables.';\n",
              "          element.innerHTML = '';\n",
              "          dataTable['output_type'] = 'display_data';\n",
              "          await google.colab.output.renderOutput(dataTable, element);\n",
              "          const docLink = document.createElement('div');\n",
              "          docLink.innerHTML = docLinkHtml;\n",
              "          element.appendChild(docLink);\n",
              "        }\n",
              "      </script>\n",
              "    </div>\n",
              "  </div>\n",
              "  "
            ]
          },
          "metadata": {},
          "execution_count": 15
        }
      ]
    },
    {
      "cell_type": "code",
      "source": [
        "bigram_df = bigram_df[bigram_df.ngram != '_']\n",
        "bigram_df = bigram_df[bigram_df.ngram != '_a']\n",
        "bigram_df = bigram_df[bigram_df.ngram != '_not']\n",
        "bigram_df = bigram_df[bigram_df.ngram != '_and']\n",
        "bigram_df = bigram_df[bigram_df.ngram != ' _not']\n",
        "bigram_df = bigram_df[bigram_df.ngram != ' _and']\n",
        "bigram_df = bigram_df[bigram_df.ngram != ' _are']"
      ],
      "metadata": {
        "id": "vIGixpQGRjFc"
      },
      "execution_count": 16,
      "outputs": []
    },
    {
      "cell_type": "code",
      "source": [
        "#cleanning \n",
        "bigram_df = bigram_df[bigram_df.ngram != 'nan']\n",
        "bigram_df['ngram'] = bigram_df['ngram'].astype(str).str.replace(\"—\", \" \")\n",
        "bigram_df['ngram'] = bigram_df['ngram'].astype(str).str.replace(\"“\", \" \")\n",
        "bigram_df['ngram'] = bigram_df['ngram'].astype(str).str.replace(\"‘\", \" \")\n",
        "bigram_df['ngram'] = bigram_df['ngram'].astype(str).str.replace(\"’\", \" \")\n",
        "bigram_df['ngram'] = bigram_df['ngram'].astype(str).str.replace(\" \", \"\")\n",
        "bigram_df['ngram'] = bigram_df['ngram'].astype(str).str.replace(\"”\", \" \")\n",
        "#bigram_df"
      ],
      "metadata": {
        "id": "nggXoVMLRkZr"
      },
      "execution_count": 17,
      "outputs": []
    },
    {
      "cell_type": "code",
      "source": [
        "embed_df = bigram_df.copy()   #embed_df will be used later in the dashboard, is just a groupby dataframe \n",
        "#embed_df = embed_df.ngram.value_counts()\n",
        "embed_df = embed_df.groupby('ngram').count().reset_index()\n",
        "embed_df = embed_df.sort_values(\n",
        "   by=\"company\",\n",
        "    ascending=False\n",
        ")\n",
        "embed_df = embed_df.rename(columns={'ngram': 'bigram', 'company': 'count','value':'words'}) #just remaining for the dashboard\n",
        "embed_df = embed_df.iloc[:22]  #take only the 21 most frequent bigrams that will be plotted in the dashboard later\n",
        "embed_df"
      ],
      "metadata": {
        "colab": {
          "base_uri": "https://localhost:8080/",
          "height": 739
        },
        "id": "vBuQtezWRmEC",
        "outputId": "7fd11de3-656d-40a8-f544-dbed149a7b58"
      },
      "execution_count": 18,
      "outputs": [
        {
          "output_type": "execute_result",
          "data": {
            "text/plain": [
              "               bigram  count  words\n",
              "19683      turn_light     13     13\n",
              "5511         echo_dot     13     13\n",
              "18237  still_learning     13     13\n",
              "11367       love_echo     13     13\n",
              "21911       work_well     13     13\n",
              "5454         easy_set     13     13\n",
              "21836      work_great     13     13\n",
              "20810         wa_easy     12     12\n",
              "8216    great_product     12     12\n",
              "14070      play_music     12     12\n",
              "8182       great_love     12     12\n",
              "17619   sound_quality     12     12\n",
              "11325      love_alexa     12     12\n",
              "8242      great_sound     11     11\n",
              "14516       prime_day     11     11\n",
              "14123   playing_music     11     11\n",
              "1061     amazon_prime     10     10\n",
              "1051     amazon_music     10     10\n",
              "6064      even_though     10     10\n",
              "10962    listen_music     10     10\n",
              "5047        dont_know     10     10\n",
              "12204     much_better     10     10"
            ],
            "text/html": [
              "\n",
              "  <div id=\"df-2c0f03d1-a065-45ef-9120-8fb5e78cb818\">\n",
              "    <div class=\"colab-df-container\">\n",
              "      <div>\n",
              "<style scoped>\n",
              "    .dataframe tbody tr th:only-of-type {\n",
              "        vertical-align: middle;\n",
              "    }\n",
              "\n",
              "    .dataframe tbody tr th {\n",
              "        vertical-align: top;\n",
              "    }\n",
              "\n",
              "    .dataframe thead th {\n",
              "        text-align: right;\n",
              "    }\n",
              "</style>\n",
              "<table border=\"1\" class=\"dataframe\">\n",
              "  <thead>\n",
              "    <tr style=\"text-align: right;\">\n",
              "      <th></th>\n",
              "      <th>bigram</th>\n",
              "      <th>count</th>\n",
              "      <th>words</th>\n",
              "    </tr>\n",
              "  </thead>\n",
              "  <tbody>\n",
              "    <tr>\n",
              "      <th>19683</th>\n",
              "      <td>turn_light</td>\n",
              "      <td>13</td>\n",
              "      <td>13</td>\n",
              "    </tr>\n",
              "    <tr>\n",
              "      <th>5511</th>\n",
              "      <td>echo_dot</td>\n",
              "      <td>13</td>\n",
              "      <td>13</td>\n",
              "    </tr>\n",
              "    <tr>\n",
              "      <th>18237</th>\n",
              "      <td>still_learning</td>\n",
              "      <td>13</td>\n",
              "      <td>13</td>\n",
              "    </tr>\n",
              "    <tr>\n",
              "      <th>11367</th>\n",
              "      <td>love_echo</td>\n",
              "      <td>13</td>\n",
              "      <td>13</td>\n",
              "    </tr>\n",
              "    <tr>\n",
              "      <th>21911</th>\n",
              "      <td>work_well</td>\n",
              "      <td>13</td>\n",
              "      <td>13</td>\n",
              "    </tr>\n",
              "    <tr>\n",
              "      <th>5454</th>\n",
              "      <td>easy_set</td>\n",
              "      <td>13</td>\n",
              "      <td>13</td>\n",
              "    </tr>\n",
              "    <tr>\n",
              "      <th>21836</th>\n",
              "      <td>work_great</td>\n",
              "      <td>13</td>\n",
              "      <td>13</td>\n",
              "    </tr>\n",
              "    <tr>\n",
              "      <th>20810</th>\n",
              "      <td>wa_easy</td>\n",
              "      <td>12</td>\n",
              "      <td>12</td>\n",
              "    </tr>\n",
              "    <tr>\n",
              "      <th>8216</th>\n",
              "      <td>great_product</td>\n",
              "      <td>12</td>\n",
              "      <td>12</td>\n",
              "    </tr>\n",
              "    <tr>\n",
              "      <th>14070</th>\n",
              "      <td>play_music</td>\n",
              "      <td>12</td>\n",
              "      <td>12</td>\n",
              "    </tr>\n",
              "    <tr>\n",
              "      <th>8182</th>\n",
              "      <td>great_love</td>\n",
              "      <td>12</td>\n",
              "      <td>12</td>\n",
              "    </tr>\n",
              "    <tr>\n",
              "      <th>17619</th>\n",
              "      <td>sound_quality</td>\n",
              "      <td>12</td>\n",
              "      <td>12</td>\n",
              "    </tr>\n",
              "    <tr>\n",
              "      <th>11325</th>\n",
              "      <td>love_alexa</td>\n",
              "      <td>12</td>\n",
              "      <td>12</td>\n",
              "    </tr>\n",
              "    <tr>\n",
              "      <th>8242</th>\n",
              "      <td>great_sound</td>\n",
              "      <td>11</td>\n",
              "      <td>11</td>\n",
              "    </tr>\n",
              "    <tr>\n",
              "      <th>14516</th>\n",
              "      <td>prime_day</td>\n",
              "      <td>11</td>\n",
              "      <td>11</td>\n",
              "    </tr>\n",
              "    <tr>\n",
              "      <th>14123</th>\n",
              "      <td>playing_music</td>\n",
              "      <td>11</td>\n",
              "      <td>11</td>\n",
              "    </tr>\n",
              "    <tr>\n",
              "      <th>1061</th>\n",
              "      <td>amazon_prime</td>\n",
              "      <td>10</td>\n",
              "      <td>10</td>\n",
              "    </tr>\n",
              "    <tr>\n",
              "      <th>1051</th>\n",
              "      <td>amazon_music</td>\n",
              "      <td>10</td>\n",
              "      <td>10</td>\n",
              "    </tr>\n",
              "    <tr>\n",
              "      <th>6064</th>\n",
              "      <td>even_though</td>\n",
              "      <td>10</td>\n",
              "      <td>10</td>\n",
              "    </tr>\n",
              "    <tr>\n",
              "      <th>10962</th>\n",
              "      <td>listen_music</td>\n",
              "      <td>10</td>\n",
              "      <td>10</td>\n",
              "    </tr>\n",
              "    <tr>\n",
              "      <th>5047</th>\n",
              "      <td>dont_know</td>\n",
              "      <td>10</td>\n",
              "      <td>10</td>\n",
              "    </tr>\n",
              "    <tr>\n",
              "      <th>12204</th>\n",
              "      <td>much_better</td>\n",
              "      <td>10</td>\n",
              "      <td>10</td>\n",
              "    </tr>\n",
              "  </tbody>\n",
              "</table>\n",
              "</div>\n",
              "      <button class=\"colab-df-convert\" onclick=\"convertToInteractive('df-2c0f03d1-a065-45ef-9120-8fb5e78cb818')\"\n",
              "              title=\"Convert this dataframe to an interactive table.\"\n",
              "              style=\"display:none;\">\n",
              "        \n",
              "  <svg xmlns=\"http://www.w3.org/2000/svg\" height=\"24px\"viewBox=\"0 0 24 24\"\n",
              "       width=\"24px\">\n",
              "    <path d=\"M0 0h24v24H0V0z\" fill=\"none\"/>\n",
              "    <path d=\"M18.56 5.44l.94 2.06.94-2.06 2.06-.94-2.06-.94-.94-2.06-.94 2.06-2.06.94zm-11 1L8.5 8.5l.94-2.06 2.06-.94-2.06-.94L8.5 2.5l-.94 2.06-2.06.94zm10 10l.94 2.06.94-2.06 2.06-.94-2.06-.94-.94-2.06-.94 2.06-2.06.94z\"/><path d=\"M17.41 7.96l-1.37-1.37c-.4-.4-.92-.59-1.43-.59-.52 0-1.04.2-1.43.59L10.3 9.45l-7.72 7.72c-.78.78-.78 2.05 0 2.83L4 21.41c.39.39.9.59 1.41.59.51 0 1.02-.2 1.41-.59l7.78-7.78 2.81-2.81c.8-.78.8-2.07 0-2.86zM5.41 20L4 18.59l7.72-7.72 1.47 1.35L5.41 20z\"/>\n",
              "  </svg>\n",
              "      </button>\n",
              "      \n",
              "  <style>\n",
              "    .colab-df-container {\n",
              "      display:flex;\n",
              "      flex-wrap:wrap;\n",
              "      gap: 12px;\n",
              "    }\n",
              "\n",
              "    .colab-df-convert {\n",
              "      background-color: #E8F0FE;\n",
              "      border: none;\n",
              "      border-radius: 50%;\n",
              "      cursor: pointer;\n",
              "      display: none;\n",
              "      fill: #1967D2;\n",
              "      height: 32px;\n",
              "      padding: 0 0 0 0;\n",
              "      width: 32px;\n",
              "    }\n",
              "\n",
              "    .colab-df-convert:hover {\n",
              "      background-color: #E2EBFA;\n",
              "      box-shadow: 0px 1px 2px rgba(60, 64, 67, 0.3), 0px 1px 3px 1px rgba(60, 64, 67, 0.15);\n",
              "      fill: #174EA6;\n",
              "    }\n",
              "\n",
              "    [theme=dark] .colab-df-convert {\n",
              "      background-color: #3B4455;\n",
              "      fill: #D2E3FC;\n",
              "    }\n",
              "\n",
              "    [theme=dark] .colab-df-convert:hover {\n",
              "      background-color: #434B5C;\n",
              "      box-shadow: 0px 1px 3px 1px rgba(0, 0, 0, 0.15);\n",
              "      filter: drop-shadow(0px 1px 2px rgba(0, 0, 0, 0.3));\n",
              "      fill: #FFFFFF;\n",
              "    }\n",
              "  </style>\n",
              "\n",
              "      <script>\n",
              "        const buttonEl =\n",
              "          document.querySelector('#df-2c0f03d1-a065-45ef-9120-8fb5e78cb818 button.colab-df-convert');\n",
              "        buttonEl.style.display =\n",
              "          google.colab.kernel.accessAllowed ? 'block' : 'none';\n",
              "\n",
              "        async function convertToInteractive(key) {\n",
              "          const element = document.querySelector('#df-2c0f03d1-a065-45ef-9120-8fb5e78cb818');\n",
              "          const dataTable =\n",
              "            await google.colab.kernel.invokeFunction('convertToInteractive',\n",
              "                                                     [key], {});\n",
              "          if (!dataTable) return;\n",
              "\n",
              "          const docLinkHtml = 'Like what you see? Visit the ' +\n",
              "            '<a target=\"_blank\" href=https://colab.research.google.com/notebooks/data_table.ipynb>data table notebook</a>'\n",
              "            + ' to learn more about interactive tables.';\n",
              "          element.innerHTML = '';\n",
              "          dataTable['output_type'] = 'display_data';\n",
              "          await google.colab.output.renderOutput(dataTable, element);\n",
              "          const docLink = document.createElement('div');\n",
              "          docLink.innerHTML = docLinkHtml;\n",
              "          element.appendChild(docLink);\n",
              "        }\n",
              "      </script>\n",
              "    </div>\n",
              "  </div>\n",
              "  "
            ]
          },
          "metadata": {},
          "execution_count": 18
        }
      ]
    },
    {
      "cell_type": "markdown",
      "metadata": {
        "id": "LlszUhNNyrl_"
      },
      "source": [
        "# TASK #3: PERFORM DATA VISUALIZATION"
      ]
    },
    {
      "cell_type": "code",
      "source": [
        "#reviews_df['variation'].value_counts()\n",
        "# Check for missing values\n",
        "#reviews_df.isnull()\n",
        "# Check for missing with a heatmap to confirm\n",
        "#sns.heatmap(reviews_df.isnull(), yticklabels = False)\n",
        "# Plot the count plot for the ratings \n",
        "#sns.countplot(x = reviews_df['rating'])"
      ],
      "metadata": {
        "id": "a5-E_d3SbEKV"
      },
      "execution_count": 19,
      "outputs": []
    },
    {
      "cell_type": "markdown",
      "metadata": {
        "id": "giHTz0a0cgsq"
      },
      "source": [
        "**MINI CHALLENGE #2:** \n",
        "- **Plot the countplot for the feedback column**\n",
        "- **Roughly how many positive and negative feedback are present in the dataset?**"
      ]
    },
    {
      "cell_type": "code",
      "execution_count": 20,
      "metadata": {
        "id": "MdThwC21cgsr"
      },
      "outputs": [],
      "source": [
        "# Plot the count plot for the feedback\n",
        "#sns.countplot(x = reviews_df['feedback'])"
      ]
    },
    {
      "cell_type": "markdown",
      "metadata": {
        "id": "6txq0KIGcgsu"
      },
      "source": [
        "# TASK #4: PERFORM DATA EXPLORATION"
      ]
    },
    {
      "cell_type": "code",
      "execution_count": 21,
      "metadata": {
        "id": "ZiVkQqEPMDDD"
      },
      "outputs": [],
      "source": [
        "# Get the length of characters for each verfied review\n",
        "reviews_df['length'] = (reviews_df['verified_reviews']).apply(len)"
      ]
    },
    {
      "cell_type": "code",
      "execution_count": 22,
      "metadata": {
        "id": "RYLqq7WetK79"
      },
      "outputs": [],
      "source": [
        "# Plot the histogram for the length\n",
        "#reviews_df['length'].plot(bins = 100, kind = 'hist')"
      ]
    },
    {
      "cell_type": "code",
      "execution_count": 23,
      "metadata": {
        "id": "NECH94w1KSpS"
      },
      "outputs": [],
      "source": [
        "# Let's see the longest message \n",
        "#reviews_df[reviews_df['length'] == 2851]"
      ]
    },
    {
      "cell_type": "code",
      "execution_count": 24,
      "metadata": {
        "id": "3x0YGkgCcgs3"
      },
      "outputs": [],
      "source": [
        "# Grab only the verified reviews column and show the first element\n",
        "#reviews_df[reviews_df['length'] == 2851]['verified_reviews'].iloc[0]"
      ]
    },
    {
      "cell_type": "markdown",
      "metadata": {
        "id": "qCKQWNMPcgs4"
      },
      "source": [
        "**MINI CHALLENGE #3:**\n",
        "- **View the message with the average length**"
      ]
    },
    {
      "cell_type": "code",
      "execution_count": 25,
      "metadata": {
        "id": "vVVjj38mcgs5",
        "outputId": "581f9009-6f8c-43e0-f75c-63eb835081e7",
        "colab": {
          "base_uri": "https://localhost:8080/",
          "height": 36
        }
      },
      "outputs": [
        {
          "output_type": "execute_result",
          "data": {
            "text/plain": [
              "'work replaced expired bedside radioalarmit took realize option setting involved using touch screenmaybe said something setup process'"
            ],
            "application/vnd.google.colaboratory.intrinsic+json": {
              "type": "string"
            }
          },
          "metadata": {},
          "execution_count": 25
        }
      ],
      "source": [
        "# View the message with the average length\n",
        "reviews_df[reviews_df['length'] == 132]['verified_reviews'].iloc[0]"
      ]
    },
    {
      "cell_type": "markdown",
      "metadata": {
        "id": "vU40bQACcgs6"
      },
      "source": [
        "# TASK #5: PLOT THE WORDCLOUD"
      ]
    },
    {
      "cell_type": "code",
      "execution_count": 26,
      "metadata": {
        "id": "5d38HsgdA3LA"
      },
      "outputs": [],
      "source": [
        "# Obtain only the positive reviews\n",
        "positive = reviews_df[reviews_df['feedback']==1]"
      ]
    },
    {
      "cell_type": "code",
      "execution_count": 27,
      "metadata": {
        "id": "cv3wJuaEBNaX"
      },
      "outputs": [],
      "source": [
        "# Obtain the negative reviews only\n",
        "negative = reviews_df[reviews_df['feedback']==0]"
      ]
    },
    {
      "cell_type": "code",
      "execution_count": 28,
      "metadata": {
        "id": "gPBOCIbxCCKE"
      },
      "outputs": [],
      "source": [
        "# Convert to list format\n",
        "sentences = positive['verified_reviews'].tolist()\n",
        "#len(sentences)"
      ]
    },
    {
      "cell_type": "code",
      "execution_count": 29,
      "metadata": {
        "id": "4V3vfaX9Cbgr"
      },
      "outputs": [],
      "source": [
        "# Join all reviews into one large string\n",
        "sentences_as_one_string = ' '.join(sentences)"
      ]
    },
    {
      "cell_type": "code",
      "execution_count": 30,
      "metadata": {
        "id": "2GVjDXBFCK7_",
        "scrolled": false
      },
      "outputs": [],
      "source": [
        "from wordcloud import WordCloud\n",
        "\n",
        "#plt.figure(figsize=(20,20))\n",
        "#plt.imshow(WordCloud().generate(sentences_as_one_string))"
      ]
    },
    {
      "cell_type": "markdown",
      "metadata": {
        "id": "IjoOWfzYcgtB"
      },
      "source": [
        "**MINI CHALLENGE #4:** \n",
        "- **Plot the wordcloud of the \"negative\" dataframe** \n",
        "- **What do you notice? Does the data make sense?**"
      ]
    },
    {
      "cell_type": "code",
      "execution_count": 31,
      "metadata": {
        "id": "Nf3yPx0mcgtC"
      },
      "outputs": [],
      "source": [
        "# Plot the wordcloud of the \"negative\" dataframe\n",
        "sentences = negative['verified_reviews'].tolist() # Convert to list format\n",
        "sentences_as_one_string = ' '.join(sentences)\n",
        "#plt.figure(figsize=(20,20))\n",
        "#plt.imshow(WordCloud().generate(sentences_as_one_string))"
      ]
    },
    {
      "cell_type": "markdown",
      "metadata": {
        "id": "Y0GmpAjG3GiH"
      },
      "source": [
        "# TASK #6: TEXT DATA CLEANING 101"
      ]
    },
    {
      "cell_type": "code",
      "execution_count": 32,
      "metadata": {
        "id": "lrET3QD4cgtE",
        "colab": {
          "base_uri": "https://localhost:8080/",
          "height": 36
        },
        "outputId": "d1792b4f-7dd9-4d95-8638-3d5af2badc22"
      },
      "outputs": [
        {
          "output_type": "execute_result",
          "data": {
            "text/plain": [
              "'!\"#$%&\\'()*+,-./:;<=>?@[\\\\]^_`{|}~'"
            ],
            "application/vnd.google.colaboratory.intrinsic+json": {
              "type": "string"
            }
          },
          "metadata": {},
          "execution_count": 32
        }
      ],
      "source": [
        "import string\n",
        "string.punctuation"
      ]
    },
    {
      "cell_type": "code",
      "execution_count": 33,
      "metadata": {
        "id": "JG4ddkfacgtF"
      },
      "outputs": [],
      "source": [
        "Test = '$I Love Coursera &Rhyme Guided Projects...!!!!'"
      ]
    },
    {
      "cell_type": "code",
      "execution_count": 34,
      "metadata": {
        "id": "_2EewIUSPIHJ"
      },
      "outputs": [],
      "source": [
        "Test_punc_removed = [char for char in Test if char not in string.punctuation]\n",
        "#Test_punc_removed"
      ]
    },
    {
      "cell_type": "code",
      "execution_count": 35,
      "metadata": {
        "id": "EMWeHpqNPIJ4"
      },
      "outputs": [],
      "source": [
        "# Join the characters again to form the string.\n",
        "Test_punc_removed_join = ''.join(Test_punc_removed)\n"
      ]
    },
    {
      "cell_type": "code",
      "execution_count": 36,
      "metadata": {
        "id": "f_juuvbOcgtH"
      },
      "outputs": [],
      "source": [
        "import nltk # Natural Language tool kit "
      ]
    },
    {
      "cell_type": "code",
      "execution_count": 37,
      "metadata": {
        "id": "gA257fmTcgtI",
        "colab": {
          "base_uri": "https://localhost:8080/"
        },
        "outputId": "052bf283-4a04-46e4-bd58-1f8502a50639"
      },
      "outputs": [
        {
          "output_type": "stream",
          "name": "stderr",
          "text": [
            "[nltk_data] Downloading package stopwords to /root/nltk_data...\n",
            "[nltk_data]   Package stopwords is already up-to-date!\n"
          ]
        }
      ],
      "source": [
        "# You have to download stopwords Package to execute this command\n",
        "from nltk.corpus import stopwords\n",
        "nltk.download('stopwords')\n",
        "stopwords.words('english')\n",
        "STOPWORDS = stopwords.words('english') #used in the dash plotly\n"
      ]
    },
    {
      "cell_type": "code",
      "execution_count": 38,
      "metadata": {
        "id": "3lzUfHhtcgtI"
      },
      "outputs": [],
      "source": [
        "Test_punc_removed_join = 'I have been enjoying these coding, programming and AI guided Projects on Rhyme and Coursera'"
      ]
    },
    {
      "cell_type": "code",
      "execution_count": 39,
      "metadata": {
        "id": "u-D-mfoVcgtJ"
      },
      "outputs": [],
      "source": [
        "Test_punc_removed_join_clean = [word for word in Test_punc_removed_join.split() if word.lower() not in stopwords.words('english')]"
      ]
    },
    {
      "cell_type": "markdown",
      "metadata": {
        "id": "xGE9PXmDcgtK"
      },
      "source": [
        "**MINI CHALLENGE #5:** \n",
        "- **For the following text, create a pipeline to remove punctuations followed by removing stopwords and test the pipeline**\n",
        "- **mini_challenge = 'Here is a mini challenge, that will teach you how to remove stopwords and punctuations from text..!!'**"
      ]
    },
    {
      "cell_type": "code",
      "execution_count": 40,
      "metadata": {
        "id": "3aPk-w2WPfYI"
      },
      "outputs": [],
      "source": [
        "mini_challenge = 'Here is a mini challenge, that will teach you how to remove stopwords and punctuations from text..!!'"
      ]
    },
    {
      "cell_type": "code",
      "source": [
        "import string"
      ],
      "metadata": {
        "id": "hDfGKwMddTCF"
      },
      "execution_count": 41,
      "outputs": []
    },
    {
      "cell_type": "code",
      "execution_count": 42,
      "metadata": {
        "id": "QWXE2ojXQ6F9"
      },
      "outputs": [],
      "source": [
        "challege = [ char for char in mini_challenge  if char not in string.punctuation ]\n",
        "challenge = ''.join(challege)\n",
        "challenge = [  word for word in challenge.split() if word.lower() not in stopwords.words('english')  ] \n"
      ]
    },
    {
      "cell_type": "markdown",
      "metadata": {
        "id": "7Kxb4M0pRBkU"
      },
      "source": [
        "# TASK #7: PERFORM COUNT VECTORIZATION (TOKENIZATION)"
      ]
    },
    {
      "cell_type": "markdown",
      "metadata": {
        "id": "W1vHQ0fOcgtN"
      },
      "source": [
        "![image.png](attachment:image.png)"
      ]
    },
    {
      "cell_type": "code",
      "execution_count": 43,
      "metadata": {
        "id": "bRstHzLkRMxA"
      },
      "outputs": [],
      "source": [
        "from sklearn.feature_extraction.text import CountVectorizer\n",
        "sample_data = ['This is the first paper.','This document is the second paper.','And this is the third one.','Is this the first paper?']\n",
        "vectorizer = CountVectorizer()\n",
        "X = vectorizer.fit_transform(sample_data)"
      ]
    },
    {
      "cell_type": "markdown",
      "metadata": {
        "id": "ETXTPf_ocgtQ"
      },
      "source": [
        "**MINI CHALLENGE #6:**\n",
        "- **Without doing any code, perform count vectorization for the following list:**\n",
        "    -  mini_challenge = ['Hello World','Hello Hello World','Hello World world world']\n",
        "- **Confirm your answer with code**"
      ]
    },
    {
      "cell_type": "code",
      "execution_count": 44,
      "metadata": {
        "id": "EZKZCr_ERSl7"
      },
      "outputs": [],
      "source": [
        "mini_challenge = ['Hello World','Hello Hello World','Hello World world world']\n",
        "vectorizer_challenge = CountVectorizer()\n",
        "X_challenge = vectorizer.fit_transform(mini_challenge)\n",
        "#print(X_challenge.toarray())"
      ]
    },
    {
      "cell_type": "markdown",
      "metadata": {
        "id": "2geMzGITbZPJ"
      },
      "source": [
        "# TASK #8: CREATE A PIPELINE TO REMOVE PUNCTUATIONS, STOPWORDS AND PERFORM COUNT VECTORIZATION"
      ]
    },
    {
      "cell_type": "code",
      "execution_count": 45,
      "metadata": {
        "id": "WHJnbIDeSmlm"
      },
      "outputs": [],
      "source": [
        "# Let's define a pipeline to clean up all the messages \n",
        "# The pipeline performs the following: (1) remove punctuation, (2) remove stopwords\n",
        "\n",
        "def process_text(text):\n",
        "    test_punc_removed = [char for char in text if char not in string.punctuation]\n",
        "    test_punc_removed = ''.join(test_punc_removed)\n",
        "    test_punc_removed = [word for word in test_punc_removed.split() if word.lower() not in stopwords.words('english')]\n",
        "    \n",
        "    return test_punc_removed"
      ]
    },
    {
      "cell_type": "code",
      "execution_count": 46,
      "metadata": {
        "id": "TxAYpIXXSmoZ"
      },
      "outputs": [],
      "source": [
        "# Let's test the newly added function\n",
        "reviews_df_clean = reviews_df['verified_reviews'].apply(process_text)"
      ]
    },
    {
      "cell_type": "code",
      "execution_count": 47,
      "metadata": {
        "id": "0oZBSWUVTGV9"
      },
      "outputs": [],
      "source": [
        "from sklearn.feature_extraction.text import CountVectorizer\n",
        "# Define the cleaning pipeline we defined earlier\n",
        "vectorizer = CountVectorizer(analyzer = process_text)\n",
        "reviews_countvectorizer = vectorizer.fit_transform(reviews_df['verified_reviews'])"
      ]
    },
    {
      "cell_type": "code",
      "execution_count": 48,
      "metadata": {
        "id": "Ajna6zStUH8j",
        "colab": {
          "base_uri": "https://localhost:8080/"
        },
        "outputId": "256e1910-85e7-4e29-a722-af64eb6d56fd"
      },
      "outputs": [
        {
          "output_type": "execute_result",
          "data": {
            "text/plain": [
              "(3150, 3935)"
            ]
          },
          "metadata": {},
          "execution_count": 48
        }
      ],
      "source": [
        "reviews_countvectorizer.shape"
      ]
    },
    {
      "cell_type": "code",
      "execution_count": 49,
      "metadata": {
        "id": "HdsbGToxFCP9"
      },
      "outputs": [],
      "source": [
        "reviews = pd.DataFrame(reviews_countvectorizer.toarray())"
      ]
    },
    {
      "cell_type": "code",
      "execution_count": 50,
      "metadata": {
        "id": "-Y5f8HWWFglY"
      },
      "outputs": [],
      "source": [
        "X = reviews"
      ]
    },
    {
      "cell_type": "code",
      "execution_count": 51,
      "metadata": {
        "id": "0TQZtuY5FnhP"
      },
      "outputs": [],
      "source": [
        "y = reviews_df['feedback']\n"
      ]
    },
    {
      "cell_type": "markdown",
      "metadata": {
        "id": "We2mCIFocgtg"
      },
      "source": [
        "**MINI CHALLENGE #7:**\n",
        "- **What is the shape of X and Y**"
      ]
    },
    {
      "cell_type": "code",
      "execution_count": 52,
      "metadata": {
        "id": "7dofFKHGcgth",
        "colab": {
          "base_uri": "https://localhost:8080/"
        },
        "outputId": "5808b479-8752-44d8-eb3c-a99196132fcd"
      },
      "outputs": [
        {
          "output_type": "execute_result",
          "data": {
            "text/plain": [
              "((3150, 3935), (3150,))"
            ]
          },
          "metadata": {},
          "execution_count": 52
        }
      ],
      "source": [
        "X.shape, y.shape"
      ]
    },
    {
      "cell_type": "markdown",
      "metadata": {
        "id": "jIVxZdZ1USAz"
      },
      "source": [
        "# TASK #9: TRAIN AND TEST NAIVE BAYES CLASSIFIER MODEL"
      ]
    },
    {
      "cell_type": "code",
      "execution_count": 53,
      "metadata": {
        "id": "V7M9V4QAUnOM"
      },
      "outputs": [],
      "source": [
        "from sklearn.model_selection import train_test_split\n",
        "X_train, X_test, y_train, y_test = train_test_split(X, y, test_size=0.2)"
      ]
    },
    {
      "cell_type": "code",
      "execution_count": 54,
      "metadata": {
        "id": "sdiBOX1xUnMo",
        "colab": {
          "base_uri": "https://localhost:8080/"
        },
        "outputId": "1e8f1088-36ac-446e-e3d1-a7ea6ee05e23"
      },
      "outputs": [
        {
          "output_type": "execute_result",
          "data": {
            "text/plain": [
              "MultinomialNB()"
            ]
          },
          "metadata": {},
          "execution_count": 54
        }
      ],
      "source": [
        "from sklearn.naive_bayes import MultinomialNB\n",
        "NB_classifier = MultinomialNB()\n",
        "NB_classifier.fit(X_train, y_train)"
      ]
    },
    {
      "cell_type": "markdown",
      "metadata": {
        "id": "DIiHg2nXcgtn"
      },
      "source": [
        "![image.png](attachment:image.png)"
      ]
    },
    {
      "cell_type": "code",
      "execution_count": 55,
      "metadata": {
        "id": "8CSu7xXdVyGI"
      },
      "outputs": [],
      "source": [
        "from sklearn.metrics import classification_report, confusion_matrix"
      ]
    },
    {
      "cell_type": "code",
      "execution_count": 56,
      "metadata": {
        "id": "4gSgbN3JVymd"
      },
      "outputs": [],
      "source": [
        "# Predicting the Test set results\n",
        "y_predict_test = NB_classifier.predict(X_test)\n",
        "cm = confusion_matrix(y_test, y_predict_test)\n",
        "#sns.heatmap(cm, annot = True)\n"
      ]
    },
    {
      "cell_type": "code",
      "execution_count": 57,
      "metadata": {
        "id": "l2sReJpmV8CK",
        "colab": {
          "base_uri": "https://localhost:8080/",
          "height": 54
        },
        "outputId": "6f97cfb3-f027-480f-de74-604e7c24dac5"
      },
      "outputs": [
        {
          "output_type": "execute_result",
          "data": {
            "text/plain": [
              "'              precision    recall  f1-score   support\\n\\n           0       0.56      0.29      0.38        51\\n           1       0.94      0.98      0.96       579\\n\\n    accuracy                           0.92       630\\n   macro avg       0.75      0.64      0.67       630\\nweighted avg       0.91      0.92      0.91       630\\n'"
            ],
            "application/vnd.google.colaboratory.intrinsic+json": {
              "type": "string"
            }
          },
          "metadata": {},
          "execution_count": 57
        }
      ],
      "source": [
        "classification_report(y_test, y_predict_test)"
      ]
    },
    {
      "cell_type": "markdown",
      "metadata": {
        "id": "uIjfuDFBcgtq"
      },
      "source": [
        "**MINI CHALLENGE #8:**\n",
        "- **Train a logistic Regression classifier and assess its performance**"
      ]
    },
    {
      "cell_type": "code",
      "execution_count": 58,
      "metadata": {
        "id": "l7SvWr9Xcgtq"
      },
      "outputs": [],
      "source": [
        "from sklearn.linear_model import LogisticRegression\n",
        "\n",
        "model = LogisticRegression()\n",
        "model.fit(X_train, y_train)\n",
        "\n",
        "y_pred = model.predict(X_test)\n",
        "\n",
        "cm = confusion_matrix(y_pred, y_test)\n",
        "#sns.heatmap(cm, annot = True)\n",
        "\n",
        "#print(classification_report(y_test, y_pred))"
      ]
    },
    {
      "cell_type": "markdown",
      "metadata": {
        "id": "27OgYEJu9EFV"
      },
      "source": [
        "# EXCELLENT JOB! YOU SHOULD BE PROUD OF YOUR NEWLY ACQUIRED SKILLS"
      ]
    },
    {
      "cell_type": "markdown",
      "metadata": {
        "id": "ujW3rD-Xcgts"
      },
      "source": [
        "# MINI CHALLENGE SOLUTIONS"
      ]
    },
    {
      "cell_type": "markdown",
      "metadata": {
        "id": "LSj_hN6Dcgtv"
      },
      "source": [
        "**MINI CHALLENGE #2 SOLUTION:** \n",
        "- **Plot the countplot for the feedback column**\n",
        "- **Roughly how many positive and negative feedback are present in the dataset?**"
      ]
    },
    {
      "cell_type": "code",
      "execution_count": 59,
      "metadata": {
        "id": "hEqL2Trscgtw"
      },
      "outputs": [],
      "source": [
        "# Plot the countplot for feedback\n",
        "# Positive ~2800\n",
        "# Negative ~250\n",
        "#sns.countplot(x = reviews_df['feedback'])"
      ]
    },
    {
      "cell_type": "markdown",
      "metadata": {
        "id": "n-EY-L6pcgty"
      },
      "source": [
        "**MINI CHALLENGE #3 SOLUTION:**\n",
        "- **View the message with the average length**"
      ]
    },
    {
      "cell_type": "code",
      "execution_count": 60,
      "metadata": {
        "id": "YOavt0ROcgty",
        "colab": {
          "base_uri": "https://localhost:8080/",
          "height": 36
        },
        "outputId": "668b1d51-3677-43c3-a9e7-1fe393988df2"
      },
      "outputs": [
        {
          "output_type": "execute_result",
          "data": {
            "text/plain": [
              "'work replaced expired bedside radioalarmit took realize option setting involved using touch screenmaybe said something setup process'"
            ],
            "application/vnd.google.colaboratory.intrinsic+json": {
              "type": "string"
            }
          },
          "metadata": {},
          "execution_count": 60
        }
      ],
      "source": [
        "# Let's see the message with mean length \n",
        "reviews_df[reviews_df['length'] == 132]['verified_reviews'].iloc[0]"
      ]
    },
    {
      "cell_type": "markdown",
      "metadata": {
        "id": "upNkgZ1rcgtz"
      },
      "source": [
        "**MINI CHALLENGE #4 SOLUTION:** \n",
        "- **Plot the wordcloud of the \"negative\" dataframe** \n",
        "- **What do you notice? Does the data make sense?**"
      ]
    },
    {
      "cell_type": "code",
      "execution_count": 61,
      "metadata": {
        "id": "OdMi0b9Rcgt0"
      },
      "outputs": [],
      "source": [
        "sentences = negative['verified_reviews'].tolist()\n",
        "len(sentences)\n",
        "sentences_as_one_string =\" \".join(sentences)\n",
        "#plt.figure(figsize = (20,20))\n",
        "#plt.imshow(WordCloud().generate(sentences_as_one_string))"
      ]
    },
    {
      "cell_type": "markdown",
      "metadata": {
        "id": "G80lM4yPcgt1"
      },
      "source": [
        "**MINI CHALLENGE #5 SOLUTION:** \n",
        "- **For the following text, create a pipeline to remove punctuations followed by removing stopwords and test the pipeline**\n",
        "- **mini_challenge = 'Here is a mini challenge, that will teach you how to remove stopwords and punctuations from text..!!'**"
      ]
    },
    {
      "cell_type": "code",
      "execution_count": 62,
      "metadata": {
        "id": "4PD7zjlJcguF"
      },
      "outputs": [],
      "source": [
        "mini_challenge = 'Here is a mini challenge, that will teach you how to remove stopwords and punctuations from text..!!'\n",
        "challege = [ char for char in mini_challenge  if char not in string.punctuation ]\n",
        "challenge = ''.join(challege)\n",
        "challenge = [  word for word in challenge.split() if word.lower() not in stopwords.words('english')  ] \n"
      ]
    },
    {
      "cell_type": "markdown",
      "metadata": {
        "id": "YkC9Nuk4cguF"
      },
      "source": [
        "**MINI CHALLENGE #6 SOLUTION:**\n",
        "- **Without doing any code, perform count vectorization for the following list:**\n",
        "    -  mini_challenge = ['Hello World','Hello Hello World','Hello World world world']\n",
        "- **Confirm your answer with code**"
      ]
    },
    {
      "cell_type": "code",
      "execution_count": 63,
      "metadata": {
        "id": "DxI3rZw2cguG"
      },
      "outputs": [],
      "source": [
        "mini_challenge = ['Hello World','Hello Hello World','Hello World world world']\n",
        "\n",
        "mini_challenge = ['Hello World', 'Hello Hello Hello World world', 'Hello Hello World world world World']\n",
        "\n",
        "vectorizer_challenge = CountVectorizer()\n",
        "X_challenge = vectorizer_challenge.fit_transform(mini_challenge)\n"
      ]
    },
    {
      "cell_type": "markdown",
      "metadata": {
        "id": "HIHuMt6HcguG"
      },
      "source": [
        "**MINI CHALLENGE #7 SOLUTION:**\n",
        "- **What is the shape of X and Y**"
      ]
    },
    {
      "cell_type": "code",
      "execution_count": 64,
      "metadata": {
        "id": "DBXOsxjVcguG",
        "colab": {
          "base_uri": "https://localhost:8080/"
        },
        "outputId": "ba40bdd1-fb00-409c-c0b9-55fa1f835bd8"
      },
      "outputs": [
        {
          "output_type": "execute_result",
          "data": {
            "text/plain": [
              "(3150, 3935)"
            ]
          },
          "metadata": {},
          "execution_count": 64
        }
      ],
      "source": [
        "X.shape"
      ]
    },
    {
      "cell_type": "code",
      "execution_count": 65,
      "metadata": {
        "id": "pcqaznGHcguH",
        "colab": {
          "base_uri": "https://localhost:8080/"
        },
        "outputId": "532f95fd-7d13-407e-9d31-80c36a3e5b56"
      },
      "outputs": [
        {
          "output_type": "execute_result",
          "data": {
            "text/plain": [
              "(3150,)"
            ]
          },
          "metadata": {},
          "execution_count": 65
        }
      ],
      "source": [
        "y.shape"
      ]
    },
    {
      "cell_type": "markdown",
      "metadata": {
        "id": "kl4iEf0OcguH"
      },
      "source": [
        "**MINI CHALLENGE #8 SOLUTION:**\n",
        "- **Train a logistic Regression classifier and assess its performance**"
      ]
    },
    {
      "cell_type": "code",
      "execution_count": null,
      "metadata": {
        "id": "8LumEAfocguH"
      },
      "outputs": [],
      "source": [
        "from sklearn.linear_model import LogisticRegression\n",
        "\n",
        "model = LogisticRegression()\n",
        "model.fit(X_train, y_train)\n",
        "\n",
        "y_pred = model.predict(X_test)\n",
        "\n",
        "cm = confusion_matrix(y_pred, y_test)\n",
        "#sns.heatmap(cm, annot = True)\n",
        "\n",
        "#print(classification_report(y_test, y_pred))"
      ]
    },
    {
      "cell_type": "markdown",
      "metadata": {
        "id": "86gXAsYdcguI"
      },
      "source": [
        "# Excellent Job!"
      ]
    },
    {
      "cell_type": "markdown",
      "source": [
        "# LDA PART"
      ],
      "metadata": {
        "id": "c4acVO-DjBBh"
      }
    },
    {
      "cell_type": "code",
      "source": [
        "import spacy  # for our NLP processing\n",
        "import nltk  # to use the stopwords library\n",
        "import string  # for a list of all punctuation\n",
        "from nltk.corpus import stopwords  # for a list of stopwords\n",
        "import gensim\n",
        "from sklearn.manifold import TSNE\n",
        "import pathlib\n",
        "import pandas as pd\n",
        "from wordcloud import STOPWORDS\n",
        "import re\n",
        "import json"
      ],
      "metadata": {
        "id": "9JSzP36UL3jO"
      },
      "execution_count": 67,
      "outputs": []
    },
    {
      "cell_type": "code",
      "source": [
        "\n",
        "# Now we can load and use spacy to analyse our reviews\n",
        "nlp = spacy.load(\"en_core_web_sm\")\n",
        "\n",
        "\n",
        "def format_topics_sentences(ldamodel, corpus, texts, dates):\n",
        "    sent_topics_df = pd.DataFrame()\n",
        "\n",
        "    # Get main topic in each document\n",
        "    for i, row in enumerate(ldamodel[corpus]):\n",
        "        row = sorted(row, key=lambda x: (x[1]), reverse=True)\n",
        "        # Get the Dominant topic, Perc Contribution and Keywords for each document\n",
        "        for j, (topic_num, prop_topic) in enumerate(row):\n",
        "            if j == 0:  # => dominant topic\n",
        "                wp = ldamodel.show_topic(topic_num)\n",
        "                topic_keywords = \", \".join([word for word, prop in wp])\n",
        "                sent_topics_df = sent_topics_df.append(\n",
        "                    pd.Series([int(topic_num), round(prop_topic, 4), topic_keywords]),\n",
        "                    ignore_index=True,\n",
        "                )\n",
        "            else:\n",
        "                break\n",
        "    sent_topics_df.columns = [\"Dominant_Topic\", \"Perc_Contribution\", \"Topic_Keywords\"]\n",
        "\n",
        "    # Add original text to the end of the output\n",
        "    contents = pd.Series(texts)\n",
        "\n",
        "    sent_topics_df = pd.concat([sent_topics_df, contents, pd.Series(dates)], axis=1)\n",
        "    return sent_topics_df\n",
        "\n",
        "\n",
        "def lda_analysis(df, stop_words):\n",
        "    \n",
        "    def cleanup_text(doc):\n",
        "        doc = nlp(doc, disable=[\"parser\", \"ner\"])\n",
        "        tokens = [tok.lemma_.lower().strip() for tok in doc if tok.lemma_ != \"-PRON-\"]\n",
        "        tokens = [\n",
        "            tok for tok in tokens if tok not in stop_words and tok not in punctuations\n",
        "        ]\n",
        "        return tokens\n",
        "\n",
        "    # Clean up and take only rows where we have text\n",
        "    df = df[pd.notnull(df[\"verified_reviews\"])]\n",
        "    docs = list(df[\"verified_reviews\"].values)\n",
        "\n",
        "    punctuations = string.punctuation\n",
        "\n",
        "    processed_docs = list(map(cleanup_text, docs))\n",
        "    print(\"len(processed_docs)\", len(processed_docs))\n",
        "    if len(processed_docs) < 11:\n",
        "        print(\"INSUFFICIENT DOCS TO RUN LINEAR DISCRIMINANT ANALYSIS\")\n",
        "        return (None, None, None, None)\n",
        "\n",
        "    dictionary = gensim.corpora.Dictionary(processed_docs)\n",
        "    bow_corpus = [dictionary.doc2bow(doc) for doc in processed_docs]\n",
        "    print(\"len(bow_corpus)\", len(bow_corpus))\n",
        "    print(\"dictionary\", len(list(dictionary.keys())))\n",
        "    if len(list(dictionary.keys())) < 1:\n",
        "        print(\"INSUFFICIENT DICTS TO RUN LINEAR DISCRIMINANT ANALYSIS\")\n",
        "        return (None, None, None, None)\n",
        "\n",
        "    lda_model = gensim.models.LdaModel(\n",
        "        bow_corpus, num_topics=5, id2word=dictionary, passes=10\n",
        "    )\n",
        "\n",
        "    df_topic_sents_keywords = format_topics_sentences(\n",
        "        ldamodel=lda_model,\n",
        "        corpus=bow_corpus,\n",
        "        texts=docs,\n",
        "        dates=list(df[\"Date received\"].values),\n",
        "    )\n",
        "    print(\"len(df_topic_sents_keywords)\", len(df_topic_sents_keywords))\n",
        "    print(\"df_topic_sents_keywords.head()\", df_topic_sents_keywords.head())\n",
        "    df_dominant_topic = df_topic_sents_keywords.reset_index()\n",
        "    df_dominant_topic.columns = [\n",
        "        \"Document_No\",\n",
        "        \"Dominant_Topic\",\n",
        "        \"Topic_Perc_Contrib\",\n",
        "        \"Keywords\",\n",
        "        \"Text\",\n",
        "        \"Date\",\n",
        "    ]\n",
        "\n",
        "    topic_num, tsne_lda = tsne_analysis(lda_model, bow_corpus)\n",
        "\n",
        "    return (tsne_lda, lda_model, topic_num, df_dominant_topic)\n",
        "\n",
        "\n",
        "def tsne_analysis(ldamodel, corpus):\n",
        "    topic_weights = []\n",
        "    for i, row_list in enumerate(ldamodel[corpus]):\n",
        "        topic_weights.append([w for i, w in row_list])\n",
        "\n",
        "    # Array of topic weights\n",
        "    df_topics = pd.DataFrame(topic_weights).fillna(0).values\n",
        "\n",
        "\n",
        "\n",
        "    # Dominant topic number in each doc\n",
        "    topic_nums = np.argmax(df_topics, axis=1)\n",
        "\n",
        "    # tSNE Dimension Reduction\n",
        "    try:\n",
        "        tsne_model = TSNE(\n",
        "            n_components=2, verbose=1, random_state=0, angle=0.99, init=\"pca\"\n",
        "        )\n",
        "        tsne_lda = tsne_model.fit_transform(df_topics)\n",
        "    except:\n",
        "        print(\"TSNE_ANALYSIS WENT WRONG, PLEASE RE-CHECK YOUR DATASET\")\n",
        "        return (topic_nums, None)\n",
        "\n",
        "    return (topic_nums, tsne_lda)"
      ],
      "metadata": {
        "id": "_kfhrAkZLwYz"
      },
      "execution_count": 68,
      "outputs": []
    },
    {
      "cell_type": "code",
      "source": [
        "GLOBAL_DF = reviews_df.copy()\n",
        "\n",
        "ADDITIONAL_STOPWORDS = [\n",
        "    \"XXXX\",\n",
        "    \"XX\",\n",
        "    \"xx\",\n",
        "    \"xxxx\",\n",
        "    \"n't\"\n",
        "]\n",
        "for stopword in ADDITIONAL_STOPWORDS:\n",
        "    STOPWORDS.add(stopword)\n",
        "\n",
        "def add_stopwords(selected_bank):\n",
        "\n",
        "    selected_bank_words = re.findall(r\"[\\w']+\", selected_bank)\n",
        "    for word in selected_bank_words:\n",
        "        STOPWORDS.add(word.lower())\n",
        "\n",
        "    print(\"Added %s stopwords:\" % selected_bank)\n",
        "    for word in selected_bank_words:\n",
        "        print(\"\\t\", word)\n",
        "    return STOPWORDS\n",
        "\n",
        "def precompute_all_lda():\n",
        "    \"\"\" QD function for precomputing all necessary LDA results\n",
        "     to allow much faster load times when the app runs. \"\"\"\n",
        "\n",
        "    failed_banks = []\n",
        "    counter = 0\n",
        "    bank_names = GLOBAL_DF[\"variation\"].value_counts().keys().tolist()\n",
        "    results = {}\n",
        "\n",
        "    for bank in bank_names:\n",
        "        try:\n",
        "            print(\"crunching LDA for: \", bank)\n",
        "            add_stopwords(bank)\n",
        "            bank_df = GLOBAL_DF[GLOBAL_DF[\"variation\"] == bank]\n",
        "            tsne_lda, lda_model, topic_num, df_dominant_topic = lda_analysis(\n",
        "                bank_df, list(STOPWORDS)\n",
        "            )\n",
        "\n",
        "            topic_top3words = [\n",
        "                (i, topic)\n",
        "                for i, topics in lda_model.show_topics(formatted=False)\n",
        "                for j, (topic, wt) in enumerate(topics)\n",
        "                if j < 3\n",
        "            ]\n",
        "\n",
        "            df_top3words_stacked = pd.DataFrame(\n",
        "                topic_top3words, columns=[\"topic_id\", \"words\"]\n",
        "            )\n",
        "            df_top3words = df_top3words_stacked.groupby(\"topic_id\").agg(\", \\n\".join)\n",
        "            df_top3words.reset_index(level=0, inplace=True)\n",
        "\n",
        "            # print(len(tsne_lda))\n",
        "            # print(len(df_dominant_topic))\n",
        "            tsne_df = pd.DataFrame(\n",
        "                {\n",
        "                    \"tsne_x\": tsne_lda[:, 0],\n",
        "                    \"tsne_y\": tsne_lda[:, 1],\n",
        "                    \"topic_num\": topic_num,\n",
        "                    \"doc_num\": df_dominant_topic[\"Document_No\"],\n",
        "                }\n",
        "            )\n",
        "\n",
        "            topic_top3words = [\n",
        "                (i, topic)\n",
        "                for i, topics in lda_model.show_topics(formatted=False)\n",
        "                for j, (topic, wt) in enumerate(topics)\n",
        "                if j < 3\n",
        "            ]\n",
        "\n",
        "            df_top3words_stacked = pd.DataFrame(\n",
        "                topic_top3words, columns=[\"topic_id\", \"words\"]\n",
        "            )\n",
        "            df_top3words = df_top3words_stacked.groupby(\"topic_id\").agg(\", \\n\".join)\n",
        "            df_top3words.reset_index(level=0, inplace=True)\n",
        "\n",
        "            results[str(bank)] = {\n",
        "                \"df_top3words\": df_top3words.to_json(),\n",
        "                \"tsne_df\": tsne_df.to_json(),\n",
        "                \"df_dominant_topic\": df_dominant_topic.to_json(),\n",
        "            }\n",
        "\n",
        "            counter += 1\n",
        "        except:\n",
        "            print(\"SOMETHING WENT HORRIBLY WRONG WITH : \", bank)\n",
        "            failed_banks.append(bank)\n",
        "\n",
        "    with open(\"/content/drive/MyDrive/Dash_plotly_home/precomputed.json\", \"w+\") as res_file:\n",
        "        json.dump(results, res_file)\n",
        "\n",
        "    print(\"DONE\")\n",
        "    print(\"did %d variations\" % counter)\n",
        "    print(\"failed %d:\" % len(failed_banks))\n",
        "    for fail in failed_banks:\n",
        "        print(fail)   "
      ],
      "metadata": {
        "id": "eSHQpBATN2Wo"
      },
      "execution_count": 69,
      "outputs": []
    },
    {
      "cell_type": "code",
      "source": [
        "precompute_all_lda()"
      ],
      "metadata": {
        "colab": {
          "base_uri": "https://localhost:8080/"
        },
        "id": "LxRftqUwXRL1",
        "outputId": "36229a51-a3e5-4e36-bf05-2a2ae6a13580"
      },
      "execution_count": 70,
      "outputs": [
        {
          "output_type": "stream",
          "name": "stdout",
          "text": [
            "crunching LDA for:  Black  Dot\n",
            "Added Black  Dot stopwords:\n",
            "\t Black\n",
            "\t Dot\n",
            "len(processed_docs) 516\n",
            "len(bow_corpus) 516\n",
            "dictionary 811\n",
            "len(df_topic_sents_keywords) 516\n",
            "df_topic_sents_keywords.head()    Dominant_Topic  Perc_Contribution  \\\n",
            "0             3.0             0.9449   \n",
            "1             1.0             0.7302   \n",
            "2             2.0             0.9318   \n",
            "3             3.0             0.7310   \n",
            "4             0.0             0.2000   \n",
            "\n",
            "                                      Topic_Keywords  \\\n",
            "0  love, alexa, home, echo, device, great, music,...   \n",
            "1  great, music, alexa, sound, speaker, use, devi...   \n",
            "2  easy, set, use, music, wa, still, work, time, ...   \n",
            "3  love, alexa, home, echo, device, great, music,...   \n",
            "4  work, echo, use, great, love, set, wa, easy, d...   \n",
            "\n",
            "                                                   0          1  \n",
            "0  set play home theater system fat using weather... 2018-07-31  \n",
            "1                                     beyond awesome 2018-07-31  \n",
            "2  like responds every time wa easy set still lea... 2018-07-31  \n",
            "3                                       family loved 2018-07-31  \n",
            "4                                                    2018-07-31  \n",
            "[t-SNE] Computing 91 nearest neighbors...\n",
            "[t-SNE] Indexed 516 samples in 0.001s...\n",
            "[t-SNE] Computed neighbors for 516 samples in 0.008s...\n",
            "[t-SNE] Computed conditional probabilities for sample 516 / 516\n",
            "[t-SNE] Mean sigma: 0.011770\n"
          ]
        },
        {
          "output_type": "stream",
          "name": "stderr",
          "text": [
            "/usr/local/lib/python3.8/dist-packages/sklearn/manifold/_t_sne.py:790: FutureWarning: The default learning rate in TSNE will change from 200.0 to 'auto' in 1.2.\n",
            "  warnings.warn(\n",
            "/usr/local/lib/python3.8/dist-packages/sklearn/manifold/_t_sne.py:982: FutureWarning: The PCA initialization in TSNE will change to have the standard deviation of PC1 equal to 1e-4 in 1.2. This will ensure better convergence.\n",
            "  warnings.warn(\n"
          ]
        },
        {
          "output_type": "stream",
          "name": "stdout",
          "text": [
            "[t-SNE] KL divergence after 250 iterations with early exaggeration: 47.300102\n",
            "[t-SNE] KL divergence after 1000 iterations: 0.054265\n",
            "crunching LDA for:  Charcoal Fabric \n",
            "Added Charcoal Fabric  stopwords:\n",
            "\t Charcoal\n",
            "\t Fabric\n",
            "len(processed_docs) 430\n",
            "len(bow_corpus) 430\n",
            "dictionary 709\n",
            "len(df_topic_sents_keywords) 430\n",
            "df_topic_sents_keywords.head()    Dominant_Topic  Perc_Contribution  \\\n",
            "0             3.0             0.7243   \n",
            "1             0.0             0.5951   \n",
            "2             0.0             0.9496   \n",
            "3             3.0             0.5904   \n",
            "4             3.0             0.9611   \n",
            "\n",
            "                                      Topic_Keywords  \\\n",
            "0  echo, music, alexa, sound, love, play, use, wa...   \n",
            "1  great, sound, love, good, music, speaker, work...   \n",
            "2  great, sound, love, good, music, speaker, work...   \n",
            "3  echo, music, alexa, sound, love, play, use, wa...   \n",
            "4  echo, music, alexa, sound, love, play, use, wa...   \n",
            "\n",
            "                                                   0          1  \n",
            "0                                          love echo 2018-07-31  \n",
            "1                                              loved 2018-07-31  \n",
            "2  lot fun thing yr old learns dinosaur control l... 2018-07-31  \n",
            "3                                              music 2018-07-31  \n",
            "4  think one ive purchased working getting one ev... 2018-07-31  \n",
            "[t-SNE] Computing 91 nearest neighbors...\n",
            "[t-SNE] Indexed 430 samples in 0.001s...\n",
            "[t-SNE] Computed neighbors for 430 samples in 0.014s...\n",
            "[t-SNE] Computed conditional probabilities for sample 430 / 430\n",
            "[t-SNE] Mean sigma: 0.015293\n"
          ]
        },
        {
          "output_type": "stream",
          "name": "stderr",
          "text": [
            "/usr/local/lib/python3.8/dist-packages/sklearn/manifold/_t_sne.py:790: FutureWarning: The default learning rate in TSNE will change from 200.0 to 'auto' in 1.2.\n",
            "  warnings.warn(\n",
            "/usr/local/lib/python3.8/dist-packages/sklearn/manifold/_t_sne.py:982: FutureWarning: The PCA initialization in TSNE will change to have the standard deviation of PC1 equal to 1e-4 in 1.2. This will ensure better convergence.\n",
            "  warnings.warn(\n"
          ]
        },
        {
          "output_type": "stream",
          "name": "stdout",
          "text": [
            "[t-SNE] KL divergence after 250 iterations with early exaggeration: 49.785305\n",
            "[t-SNE] KL divergence after 1000 iterations: 0.110981\n",
            "crunching LDA for:  Configuration: Fire TV Stick\n",
            "Added Configuration: Fire TV Stick stopwords:\n",
            "\t Configuration\n",
            "\t Fire\n",
            "\t TV\n",
            "\t Stick\n",
            "len(processed_docs) 350\n",
            "len(bow_corpus) 350\n",
            "dictionary 783\n",
            "len(df_topic_sents_keywords) 350\n",
            "df_topic_sents_keywords.head()    Dominant_Topic  Perc_Contribution  \\\n",
            "0             2.0             0.9570   \n",
            "1             2.0             0.9320   \n",
            "2             2.0             0.7309   \n",
            "3             0.0             0.4282   \n",
            "4             0.0             0.2000   \n",
            "\n",
            "                                      Topic_Keywords  \\\n",
            "0  love, use, easy, wa, app, alexa, firestick, pr...   \n",
            "1  love, use, easy, wa, app, alexa, firestick, pr...   \n",
            "2  love, use, easy, wa, app, alexa, firestick, pr...   \n",
            "3  easy, work, great, use, set, well, product, lo...   \n",
            "4  easy, work, great, use, set, well, product, lo...   \n",
            "\n",
            "                                                   0          1  \n",
            "0  ideal amazon prime first fire tv stick purchas... 2018-07-31  \n",
            "1  love finally got one everyone home importantly... 2018-07-31  \n",
            "2                                     love firestick 2018-07-31  \n",
            "3                        dont know held getting long 2018-07-31  \n",
            "4                                                    2018-07-31  \n",
            "[t-SNE] Computing 91 nearest neighbors...\n",
            "[t-SNE] Indexed 350 samples in 0.000s...\n",
            "[t-SNE] Computed neighbors for 350 samples in 0.005s...\n",
            "[t-SNE] Computed conditional probabilities for sample 350 / 350\n",
            "[t-SNE] Mean sigma: 0.051376\n"
          ]
        },
        {
          "output_type": "stream",
          "name": "stderr",
          "text": [
            "/usr/local/lib/python3.8/dist-packages/sklearn/manifold/_t_sne.py:790: FutureWarning: The default learning rate in TSNE will change from 200.0 to 'auto' in 1.2.\n",
            "  warnings.warn(\n",
            "/usr/local/lib/python3.8/dist-packages/sklearn/manifold/_t_sne.py:982: FutureWarning: The PCA initialization in TSNE will change to have the standard deviation of PC1 equal to 1e-4 in 1.2. This will ensure better convergence.\n",
            "  warnings.warn(\n"
          ]
        },
        {
          "output_type": "stream",
          "name": "stdout",
          "text": [
            "[t-SNE] KL divergence after 250 iterations with early exaggeration: 50.647491\n",
            "[t-SNE] KL divergence after 1000 iterations: 0.143030\n",
            "crunching LDA for:  Black  Plus\n",
            "Added Black  Plus stopwords:\n",
            "\t Black\n",
            "\t Plus\n",
            "len(processed_docs) 270\n",
            "len(bow_corpus) 270\n",
            "dictionary 1155\n",
            "len(df_topic_sents_keywords) 270\n",
            "df_topic_sents_keywords.head()    Dominant_Topic  Perc_Contribution  \\\n",
            "0             2.0             0.9647   \n",
            "1             0.0             0.9458   \n",
            "2             1.0             0.9376   \n",
            "3             2.0             0.9455   \n",
            "4             1.0             0.7968   \n",
            "\n",
            "                                      Topic_Keywords  \\\n",
            "0  use, alexa, work, great, love, well, sound, sm...   \n",
            "1  echo, hub, device, work, app, alexa, wa, sound...   \n",
            "2  echo, love, alexa, light, wa, bulb, work, devi...   \n",
            "3  use, alexa, work, great, love, well, sound, sm...   \n",
            "4  echo, love, alexa, light, wa, bulb, work, devi...   \n",
            "\n",
            "                                                   0          1  \n",
            "0  use alexa primarily listening music checking w... 2018-07-31  \n",
            "1  plug n play set simple added battery base make... 2018-07-31  \n",
            "2  shes alexa bit dense still learning way phrase... 2018-07-30  \n",
            "3  great sound easy set purchased echo plus built... 2018-07-30  \n",
            "4                                 love new echo plus 2018-07-30  \n",
            "[t-SNE] Computing 91 nearest neighbors...\n",
            "[t-SNE] Indexed 270 samples in 0.000s...\n",
            "[t-SNE] Computed neighbors for 270 samples in 0.006s...\n",
            "[t-SNE] Computed conditional probabilities for sample 270 / 270\n",
            "[t-SNE] Mean sigma: 0.017842\n"
          ]
        },
        {
          "output_type": "stream",
          "name": "stderr",
          "text": [
            "/usr/local/lib/python3.8/dist-packages/sklearn/manifold/_t_sne.py:790: FutureWarning: The default learning rate in TSNE will change from 200.0 to 'auto' in 1.2.\n",
            "  warnings.warn(\n",
            "/usr/local/lib/python3.8/dist-packages/sklearn/manifold/_t_sne.py:982: FutureWarning: The PCA initialization in TSNE will change to have the standard deviation of PC1 equal to 1e-4 in 1.2. This will ensure better convergence.\n",
            "  warnings.warn(\n"
          ]
        },
        {
          "output_type": "stream",
          "name": "stdout",
          "text": [
            "[t-SNE] KL divergence after 250 iterations with early exaggeration: 52.226498\n",
            "[t-SNE] KL divergence after 1000 iterations: 0.067068\n",
            "crunching LDA for:  Black  Show\n",
            "Added Black  Show stopwords:\n",
            "\t Black\n",
            "\t Show\n",
            "len(processed_docs) 265\n",
            "len(bow_corpus) 265\n",
            "dictionary 991\n",
            "len(df_topic_sents_keywords) 265\n",
            "df_topic_sents_keywords.head()    Dominant_Topic  Perc_Contribution  \\\n",
            "0             0.0             0.9186   \n",
            "1             2.0             0.9376   \n",
            "2             3.0             0.6541   \n",
            "3             2.0             0.9094   \n",
            "4             1.0             0.5917   \n",
            "\n",
            "                                      Topic_Keywords  \\\n",
            "0  echo, love, work, well, screen, use, device, w...   \n",
            "1  great, love, music, work, see, use, echo, prod...   \n",
            "2  video, use, echo, great, work, alexa, love, mu...   \n",
            "3  great, love, music, work, see, use, echo, prod...   \n",
            "4  love, use, one, good, buy, product, echo, ha, ...   \n",
            "\n",
            "                                                   0          1  \n",
            "0  love love love love feel like talking computer... 2018-07-31  \n",
            "1  love echo show able see lyric song play able p... 2018-07-31  \n",
            "2  seems work well unfortunately lot functionalit... 2018-07-31  \n",
            "3  love listening music still trying learn everyt... 2018-07-31  \n",
            "4                                               good 2018-07-31  \n",
            "[t-SNE] Computing 91 nearest neighbors...\n",
            "[t-SNE] Indexed 265 samples in 0.001s...\n",
            "[t-SNE] Computed neighbors for 265 samples in 0.006s...\n",
            "[t-SNE] Computed conditional probabilities for sample 265 / 265\n",
            "[t-SNE] Mean sigma: 0.015415\n"
          ]
        },
        {
          "output_type": "stream",
          "name": "stderr",
          "text": [
            "/usr/local/lib/python3.8/dist-packages/sklearn/manifold/_t_sne.py:790: FutureWarning: The default learning rate in TSNE will change from 200.0 to 'auto' in 1.2.\n",
            "  warnings.warn(\n",
            "/usr/local/lib/python3.8/dist-packages/sklearn/manifold/_t_sne.py:982: FutureWarning: The PCA initialization in TSNE will change to have the standard deviation of PC1 equal to 1e-4 in 1.2. This will ensure better convergence.\n",
            "  warnings.warn(\n"
          ]
        },
        {
          "output_type": "stream",
          "name": "stdout",
          "text": [
            "[t-SNE] KL divergence after 250 iterations with early exaggeration: 47.498264\n",
            "[t-SNE] KL divergence after 900 iterations: 0.066433\n",
            "crunching LDA for:  Black\n",
            "Added Black stopwords:\n",
            "\t Black\n",
            "len(processed_docs) 261\n",
            "len(bow_corpus) 261\n",
            "dictionary 860\n",
            "len(df_topic_sents_keywords) 261\n",
            "df_topic_sents_keywords.head()    Dominant_Topic  Perc_Contribution  \\\n",
            "0             2.0             0.4861   \n",
            "1             3.0             0.9369   \n",
            "2             2.0             0.8654   \n",
            "3             1.0             0.8640   \n",
            "4             1.0             0.7291   \n",
            "\n",
            "                                      Topic_Keywords  \\\n",
            "0  new, love, one, work, great, echo, refurbish, ...   \n",
            "1  loud, wa, music, use, love, time, alexa, devic...   \n",
            "2  new, love, one, work, great, echo, refurbish, ...   \n",
            "3  work, wa, refurbish, great, echo, product, lov...   \n",
            "4  work, wa, refurbish, great, echo, product, lov...   \n",
            "\n",
            "                                                   0          1  \n",
            "0  item longer work month use connect wifi unresp... 2018-07-31  \n",
            "1  love echo dot easy fun get drop grandaughter l... 2018-07-30  \n",
            "2                       work great different new one 2018-07-30  \n",
            "3                  one going kitchen timermusic duty 2018-07-30  \n",
            "4                                          work fine 2018-07-30  \n",
            "[t-SNE] Computing 91 nearest neighbors...\n",
            "[t-SNE] Indexed 261 samples in 0.000s...\n",
            "[t-SNE] Computed neighbors for 261 samples in 0.006s...\n",
            "[t-SNE] Computed conditional probabilities for sample 261 / 261\n",
            "[t-SNE] Mean sigma: 0.047283\n"
          ]
        },
        {
          "output_type": "stream",
          "name": "stderr",
          "text": [
            "/usr/local/lib/python3.8/dist-packages/sklearn/manifold/_t_sne.py:790: FutureWarning: The default learning rate in TSNE will change from 200.0 to 'auto' in 1.2.\n",
            "  warnings.warn(\n",
            "/usr/local/lib/python3.8/dist-packages/sklearn/manifold/_t_sne.py:982: FutureWarning: The PCA initialization in TSNE will change to have the standard deviation of PC1 equal to 1e-4 in 1.2. This will ensure better convergence.\n",
            "  warnings.warn(\n"
          ]
        },
        {
          "output_type": "stream",
          "name": "stdout",
          "text": [
            "[t-SNE] KL divergence after 250 iterations with early exaggeration: 52.765137\n",
            "[t-SNE] KL divergence after 700 iterations: 0.105398\n",
            "crunching LDA for:  Black  Spot\n",
            "Added Black  Spot stopwords:\n",
            "\t Black\n",
            "\t Spot\n",
            "len(processed_docs) 241\n",
            "len(bow_corpus) 241\n",
            "dictionary 1109\n",
            "len(df_topic_sents_keywords) 241\n",
            "df_topic_sents_keywords.head()    Dominant_Topic  Perc_Contribution  \\\n",
            "0             3.0             0.8980   \n",
            "1             4.0             0.7969   \n",
            "2             2.0             0.9190   \n",
            "3             0.0             0.9361   \n",
            "4             3.0             0.9805   \n",
            "\n",
            "                                      Topic_Keywords  \\\n",
            "0  love, great, use, alexa, alarm, clock, day, mu...   \n",
            "1  echo, great, one, love, product, ha, google, d...   \n",
            "2  device, echo, sound, alexa, perfect, video, mu...   \n",
            "3  alarm, clock, screen, alexa, well, wa, turn, d...   \n",
            "4  love, great, use, alexa, alarm, clock, day, mu...   \n",
            "\n",
            "                                                   0          1  \n",
            "0        used product phone look weather watch video 2018-07-31  \n",
            "1                                amazing far got day 2018-07-30  \n",
            "2  like smaller ha never understood command easil... 2018-07-30  \n",
            "3  worthy successor echo dot right home bed room ... 2018-07-30  \n",
            "4  love device functionality amazon echo added be... 2018-07-30  \n",
            "[t-SNE] Computing 91 nearest neighbors...\n",
            "[t-SNE] Indexed 241 samples in 0.000s...\n",
            "[t-SNE] Computed neighbors for 241 samples in 0.004s...\n",
            "[t-SNE] Computed conditional probabilities for sample 241 / 241\n",
            "[t-SNE] Mean sigma: 0.012225\n"
          ]
        },
        {
          "output_type": "stream",
          "name": "stderr",
          "text": [
            "/usr/local/lib/python3.8/dist-packages/sklearn/manifold/_t_sne.py:790: FutureWarning: The default learning rate in TSNE will change from 200.0 to 'auto' in 1.2.\n",
            "  warnings.warn(\n",
            "/usr/local/lib/python3.8/dist-packages/sklearn/manifold/_t_sne.py:982: FutureWarning: The PCA initialization in TSNE will change to have the standard deviation of PC1 equal to 1e-4 in 1.2. This will ensure better convergence.\n",
            "  warnings.warn(\n"
          ]
        },
        {
          "output_type": "stream",
          "name": "stdout",
          "text": [
            "[t-SNE] KL divergence after 250 iterations with early exaggeration: 49.649223\n",
            "[t-SNE] KL divergence after 1000 iterations: 0.106156\n",
            "crunching LDA for:  White  Dot\n",
            "Added White  Dot stopwords:\n",
            "\t White\n",
            "\t Dot\n",
            "len(processed_docs) 184\n",
            "len(bow_corpus) 184\n",
            "dictionary 377\n",
            "len(df_topic_sents_keywords) 184\n",
            "df_topic_sents_keywords.head()    Dominant_Topic  Perc_Contribution  \\\n",
            "0             1.0             0.9107   \n",
            "1             1.0             0.7266   \n",
            "2             3.0             0.5960   \n",
            "3             3.0             0.7305   \n",
            "4             4.0             0.7317   \n",
            "\n",
            "                                      Topic_Keywords  \\\n",
            "0  great, love, phone, alexa, fun, handy, product...   \n",
            "1  great, love, phone, alexa, fun, handy, product...   \n",
            "2  love, alexa, one, expect, work, use, much, hou...   \n",
            "3  love, alexa, one, expect, work, use, much, hou...   \n",
            "4  echo, love, play, set, music, easy, thing, ’, ...   \n",
            "\n",
            "                                                   0          1  \n",
            "0  small device kid like ask question handy frien... 2018-07-31  \n",
            "1                                       love helpful 2018-07-30  \n",
            "2                                               love 2018-07-30  \n",
            "3                                      work like one 2018-07-30  \n",
            "4                                       nice product 2018-07-30  \n",
            "[t-SNE] Computing 91 nearest neighbors...\n",
            "[t-SNE] Indexed 184 samples in 0.000s...\n",
            "[t-SNE] Computed neighbors for 184 samples in 0.003s...\n",
            "[t-SNE] Computed conditional probabilities for sample 184 / 184\n",
            "[t-SNE] Mean sigma: 0.060022\n"
          ]
        },
        {
          "output_type": "stream",
          "name": "stderr",
          "text": [
            "/usr/local/lib/python3.8/dist-packages/sklearn/manifold/_t_sne.py:790: FutureWarning: The default learning rate in TSNE will change from 200.0 to 'auto' in 1.2.\n",
            "  warnings.warn(\n",
            "/usr/local/lib/python3.8/dist-packages/sklearn/manifold/_t_sne.py:982: FutureWarning: The PCA initialization in TSNE will change to have the standard deviation of PC1 equal to 1e-4 in 1.2. This will ensure better convergence.\n",
            "  warnings.warn(\n"
          ]
        },
        {
          "output_type": "stream",
          "name": "stdout",
          "text": [
            "[t-SNE] KL divergence after 250 iterations with early exaggeration: 47.244591\n",
            "[t-SNE] KL divergence after 700 iterations: 0.051593\n",
            "crunching LDA for:  Heather Gray Fabric \n",
            "Added Heather Gray Fabric  stopwords:\n",
            "\t Heather\n",
            "\t Gray\n",
            "\t Fabric\n",
            "len(processed_docs) 157\n",
            "len(bow_corpus) 157\n",
            "dictionary 371\n",
            "len(df_topic_sents_keywords) 157\n",
            "df_topic_sents_keywords.head()    Dominant_Topic  Perc_Contribution  \\\n",
            "0             1.0             0.9523   \n",
            "1             3.0             0.7310   \n",
            "2             2.0             0.9325   \n",
            "3             0.0             0.7979   \n",
            "4             3.0             0.8983   \n",
            "\n",
            "                                      Topic_Keywords  \\\n",
            "0  love, sound, quality, great, home, music, play...   \n",
            "1  speaker, great, echo, love, sound, work, well,...   \n",
            "2  music, use, great, echo, listen, alexa, wifi, ...   \n",
            "3  love, alexa, play, control, time, set, music, ...   \n",
            "4  speaker, great, echo, love, sound, work, well,...   \n",
            "\n",
            "                                                   0          1  \n",
            "0  received echo gift needed another bluetooth so... 2018-07-31  \n",
            "1                                         look great 2018-07-30  \n",
            "2  love i’ve listened song haven’t heard since ch... 2018-07-30  \n",
            "3                                     love wife hate 2018-07-30  \n",
            "4       really happy purchase great speaker easy set 2018-07-30  \n",
            "[t-SNE] Computing 91 nearest neighbors...\n",
            "[t-SNE] Indexed 157 samples in 0.000s...\n",
            "[t-SNE] Computed neighbors for 157 samples in 0.004s...\n",
            "[t-SNE] Computed conditional probabilities for sample 157 / 157\n",
            "[t-SNE] Mean sigma: 0.109790\n"
          ]
        },
        {
          "output_type": "stream",
          "name": "stderr",
          "text": [
            "/usr/local/lib/python3.8/dist-packages/sklearn/manifold/_t_sne.py:790: FutureWarning: The default learning rate in TSNE will change from 200.0 to 'auto' in 1.2.\n",
            "  warnings.warn(\n",
            "/usr/local/lib/python3.8/dist-packages/sklearn/manifold/_t_sne.py:982: FutureWarning: The PCA initialization in TSNE will change to have the standard deviation of PC1 equal to 1e-4 in 1.2. This will ensure better convergence.\n",
            "  warnings.warn(\n"
          ]
        },
        {
          "output_type": "stream",
          "name": "stdout",
          "text": [
            "[t-SNE] KL divergence after 250 iterations with early exaggeration: 49.832321\n",
            "[t-SNE] KL divergence after 1000 iterations: 0.061877\n",
            "crunching LDA for:  White  Spot\n",
            "Added White  Spot stopwords:\n",
            "\t White\n",
            "\t Spot\n",
            "len(processed_docs) 109\n",
            "len(bow_corpus) 109\n",
            "dictionary 748\n",
            "len(df_topic_sents_keywords) 109\n",
            "df_topic_sents_keywords.head()    Dominant_Topic  Perc_Contribution  \\\n",
            "0             2.0             0.9594   \n",
            "1             2.0             0.9847   \n",
            "2             0.0             0.5246   \n",
            "3             0.0             0.8845   \n",
            "4             4.0             0.8826   \n",
            "\n",
            "                                      Topic_Keywords  \\\n",
            "0  echo, use, great, love, alexa, device, home, s...   \n",
            "1  echo, use, great, love, alexa, device, home, s...   \n",
            "2  love, echo, use, one, clock, set, device, easy...   \n",
            "3  love, echo, use, one, clock, set, device, easy...   \n",
            "4  clock, screen, great, buy, thing, product, hou...   \n",
            "\n",
            "                                                   0          1  \n",
            "0  don’t use much thought would synced kasacam us... 2018-07-31  \n",
            "1  love echo spot bedside alarm clock size device... 2018-07-30  \n",
            "2  thing like echo spot voice command feature ask... 2018-07-30  \n",
            "3     love perfect alarm clock replacement plus much 2018-07-30  \n",
            "4  absolutely love product wish would bought inst... 2018-07-30  \n",
            "[t-SNE] Computing 91 nearest neighbors...\n",
            "[t-SNE] Indexed 109 samples in 0.000s...\n",
            "[t-SNE] Computed neighbors for 109 samples in 0.003s...\n",
            "[t-SNE] Computed conditional probabilities for sample 109 / 109\n",
            "[t-SNE] Mean sigma: 0.030701\n"
          ]
        },
        {
          "output_type": "stream",
          "name": "stderr",
          "text": [
            "/usr/local/lib/python3.8/dist-packages/sklearn/manifold/_t_sne.py:790: FutureWarning: The default learning rate in TSNE will change from 200.0 to 'auto' in 1.2.\n",
            "  warnings.warn(\n",
            "/usr/local/lib/python3.8/dist-packages/sklearn/manifold/_t_sne.py:982: FutureWarning: The PCA initialization in TSNE will change to have the standard deviation of PC1 equal to 1e-4 in 1.2. This will ensure better convergence.\n",
            "  warnings.warn(\n"
          ]
        },
        {
          "output_type": "stream",
          "name": "stdout",
          "text": [
            "[t-SNE] KL divergence after 250 iterations with early exaggeration: 53.314514\n",
            "[t-SNE] KL divergence after 800 iterations: 0.026853\n",
            "crunching LDA for:  White\n",
            "Added White stopwords:\n",
            "\t White\n",
            "len(processed_docs) 91\n",
            "len(bow_corpus) 91\n",
            "dictionary 425\n",
            "len(df_topic_sents_keywords) 91\n",
            "df_topic_sents_keywords.head()    Dominant_Topic  Perc_Contribution  \\\n",
            "0             2.0             0.9674   \n",
            "1             3.0             0.7296   \n",
            "2             0.0             0.9381   \n",
            "3             4.0             0.9465   \n",
            "4             3.0             0.8648   \n",
            "\n",
            "                                      Topic_Keywords  \\\n",
            "0  work, great, echo, new, use, one, speaker, ref...   \n",
            "1  love, new, buy, good, one, ha, refurbish, room...   \n",
            "2  echo, work, wa, one, amazon, use, refurbish, t...   \n",
            "3  work, perfect, great, love, perfectly, echo, o...   \n",
            "4  love, new, buy, good, one, ha, refurbish, room...   \n",
            "\n",
            "                                                   0          1  \n",
            "0  love volume could definitely use boost better ... 2018-07-30  \n",
            "1                                           one love 2018-07-29  \n",
            "2  sure feel echo dot many thing need get used as... 2018-07-29  \n",
            "3  small echo dot amazing sound come greatit chan... 2018-07-28  \n",
            "4               talk time song aren’t dislike device 2018-07-28  \n",
            "[t-SNE] Computing 90 nearest neighbors...\n",
            "[t-SNE] Indexed 91 samples in 0.000s...\n",
            "[t-SNE] Computed neighbors for 91 samples in 0.003s...\n",
            "[t-SNE] Computed conditional probabilities for sample 91 / 91\n",
            "[t-SNE] Mean sigma: 0.569643\n"
          ]
        },
        {
          "output_type": "stream",
          "name": "stderr",
          "text": [
            "/usr/local/lib/python3.8/dist-packages/sklearn/manifold/_t_sne.py:790: FutureWarning: The default learning rate in TSNE will change from 200.0 to 'auto' in 1.2.\n",
            "  warnings.warn(\n",
            "/usr/local/lib/python3.8/dist-packages/sklearn/manifold/_t_sne.py:982: FutureWarning: The PCA initialization in TSNE will change to have the standard deviation of PC1 equal to 1e-4 in 1.2. This will ensure better convergence.\n",
            "  warnings.warn(\n"
          ]
        },
        {
          "output_type": "stream",
          "name": "stdout",
          "text": [
            "[t-SNE] KL divergence after 250 iterations with early exaggeration: 54.141296\n",
            "[t-SNE] KL divergence after 1000 iterations: 0.051111\n",
            "crunching LDA for:  Sandstone Fabric \n",
            "Added Sandstone Fabric  stopwords:\n",
            "\t Sandstone\n",
            "\t Fabric\n",
            "len(processed_docs) 90\n",
            "len(bow_corpus) 90\n",
            "dictionary 292\n",
            "len(df_topic_sents_keywords) 90\n",
            "df_topic_sents_keywords.head()    Dominant_Topic  Perc_Contribution  \\\n",
            "0             3.0             0.6813   \n",
            "1             1.0             0.9776   \n",
            "2             1.0             0.9464   \n",
            "3             4.0             0.7333   \n",
            "4             4.0             0.9107   \n",
            "\n",
            "                                      Topic_Keywords  \\\n",
            "0  alexa, great, echo, sound, learn, without, lov...   \n",
            "1  sound, echo, work, love, wa, music, alarm, use...   \n",
            "2  sound, echo, work, love, wa, music, alarm, use...   \n",
            "3  echo, love, work, pretty, light, great, well, ...   \n",
            "4  echo, love, work, pretty, light, great, well, ...   \n",
            "\n",
            "                                                   0          1  \n",
            "0  without cellphone cannot use many feature ipad... 2018-07-31  \n",
            "1  liked original echo shorter greater fabriccolo... 2018-07-30  \n",
            "2  got second unit bedroom wa expecting sound imp... 2018-07-30  \n",
            "3                                    amazing product 2018-07-30  \n",
            "4  still learning capabilitiesbut far pretty pret... 2018-07-30  \n",
            "[t-SNE] Computing 89 nearest neighbors...\n",
            "[t-SNE] Indexed 90 samples in 0.000s...\n",
            "[t-SNE] Computed neighbors for 90 samples in 0.002s...\n",
            "[t-SNE] Computed conditional probabilities for sample 90 / 90\n",
            "[t-SNE] Mean sigma: 0.577361\n"
          ]
        },
        {
          "output_type": "stream",
          "name": "stderr",
          "text": [
            "/usr/local/lib/python3.8/dist-packages/sklearn/manifold/_t_sne.py:790: FutureWarning: The default learning rate in TSNE will change from 200.0 to 'auto' in 1.2.\n",
            "  warnings.warn(\n",
            "/usr/local/lib/python3.8/dist-packages/sklearn/manifold/_t_sne.py:982: FutureWarning: The PCA initialization in TSNE will change to have the standard deviation of PC1 equal to 1e-4 in 1.2. This will ensure better convergence.\n",
            "  warnings.warn(\n"
          ]
        },
        {
          "output_type": "stream",
          "name": "stdout",
          "text": [
            "[t-SNE] KL divergence after 250 iterations with early exaggeration: 55.555634\n",
            "[t-SNE] KL divergence after 1000 iterations: 0.181096\n",
            "crunching LDA for:  White  Show\n",
            "Added White  Show stopwords:\n",
            "\t White\n",
            "\t Show\n",
            "len(processed_docs) 85\n",
            "len(bow_corpus) 85\n",
            "dictionary 507\n",
            "len(df_topic_sents_keywords) 85\n",
            "df_topic_sents_keywords.head()    Dominant_Topic  Perc_Contribution  \\\n",
            "0             1.0             0.7328   \n",
            "1             0.0             0.5999   \n",
            "2             1.0             0.9190   \n",
            "3             4.0             0.9374   \n",
            "4             0.0             0.2000   \n",
            "\n",
            "                                      Topic_Keywords  \\\n",
            "0  love, echo, see, connect, home, much, use, awe...   \n",
            "1  echo, great, sound, love, video, use, alexa, d...   \n",
            "2  love, echo, see, connect, home, much, use, awe...   \n",
            "3  love, use, easy, one, well, alexa, echo, produ...   \n",
            "4  echo, great, sound, love, video, use, alexa, d...   \n",
            "\n",
            "                                                   0          1  \n",
            "0                               pleasedsimple figure 2018-07-31  \n",
            "1                               expectedalready show 2018-07-31  \n",
            "2  excellent listen music audio book look camera ... 2018-07-31  \n",
            "3  like echo show best big screen watch movie pre... 2018-07-30  \n",
            "4                                                    2018-07-30  \n",
            "[t-SNE] Computing 84 nearest neighbors...\n",
            "[t-SNE] Indexed 85 samples in 0.000s...\n",
            "[t-SNE] Computed neighbors for 85 samples in 0.002s...\n",
            "[t-SNE] Computed conditional probabilities for sample 85 / 85\n",
            "[t-SNE] Mean sigma: 0.126424\n"
          ]
        },
        {
          "output_type": "stream",
          "name": "stderr",
          "text": [
            "/usr/local/lib/python3.8/dist-packages/sklearn/manifold/_t_sne.py:790: FutureWarning: The default learning rate in TSNE will change from 200.0 to 'auto' in 1.2.\n",
            "  warnings.warn(\n",
            "/usr/local/lib/python3.8/dist-packages/sklearn/manifold/_t_sne.py:982: FutureWarning: The PCA initialization in TSNE will change to have the standard deviation of PC1 equal to 1e-4 in 1.2. This will ensure better convergence.\n",
            "  warnings.warn(\n"
          ]
        },
        {
          "output_type": "stream",
          "name": "stdout",
          "text": [
            "[t-SNE] KL divergence after 250 iterations with early exaggeration: 51.919674\n",
            "[t-SNE] KL divergence after 1000 iterations: 0.028782\n",
            "crunching LDA for:  White  Plus\n",
            "Added White  Plus stopwords:\n",
            "\t White\n",
            "\t Plus\n",
            "len(processed_docs) 78\n",
            "len(bow_corpus) 78\n",
            "dictionary 598\n",
            "len(df_topic_sents_keywords) 78\n",
            "df_topic_sents_keywords.head()    Dominant_Topic  Perc_Contribution  \\\n",
            "0             0.0             0.9417   \n",
            "1             0.0             0.9095   \n",
            "2             1.0             0.8368   \n",
            "3             0.0             0.9591   \n",
            "4             4.0             0.8991   \n",
            "\n",
            "                                      Topic_Keywords  \\\n",
            "0  light, alexa, echo, great, sound, item, love, ...   \n",
            "1  light, alexa, echo, great, sound, item, love, ...   \n",
            "2  ha, fun, love, great, use, alexa, one, smart, ...   \n",
            "3  light, alexa, echo, great, sound, item, love, ...   \n",
            "4  work, alexa, echo, wa, learn, new, amazon, one...   \n",
            "\n",
            "                                                   0          1  \n",
            "0  great speaker n love much alexa tap it’s defin... 2018-07-30  \n",
            "1  like built hub plus unit sound great wish volu... 2018-07-30  \n",
            "2                       happy echo plus fun learning 2018-07-30  \n",
            "3  around week love control item house even i’m m... 2018-07-30  \n",
            "4   know needed plugged work far experience positive 2018-07-30  \n",
            "[t-SNE] Computing 77 nearest neighbors...\n",
            "[t-SNE] Indexed 78 samples in 0.000s...\n",
            "[t-SNE] Computed neighbors for 78 samples in 0.003s...\n",
            "[t-SNE] Computed conditional probabilities for sample 78 / 78\n",
            "[t-SNE] Mean sigma: 0.259157\n",
            "[t-SNE] KL divergence after 250 iterations with early exaggeration: 50.616432\n"
          ]
        },
        {
          "output_type": "stream",
          "name": "stderr",
          "text": [
            "/usr/local/lib/python3.8/dist-packages/sklearn/manifold/_t_sne.py:790: FutureWarning: The default learning rate in TSNE will change from 200.0 to 'auto' in 1.2.\n",
            "  warnings.warn(\n",
            "/usr/local/lib/python3.8/dist-packages/sklearn/manifold/_t_sne.py:982: FutureWarning: The PCA initialization in TSNE will change to have the standard deviation of PC1 equal to 1e-4 in 1.2. This will ensure better convergence.\n",
            "  warnings.warn(\n"
          ]
        },
        {
          "output_type": "stream",
          "name": "stdout",
          "text": [
            "[t-SNE] KL divergence after 1000 iterations: 0.240234\n",
            "crunching LDA for:  Oak Finish \n",
            "Added Oak Finish  stopwords:\n",
            "\t Oak\n",
            "\t Finish\n",
            "len(processed_docs) 14\n",
            "len(bow_corpus) 14\n",
            "dictionary 50\n",
            "len(df_topic_sents_keywords) 14\n",
            "df_topic_sents_keywords.head()    Dominant_Topic  Perc_Contribution  \\\n",
            "0             2.0             0.9619   \n",
            "1             1.0             0.6000   \n",
            "2             3.0             0.8399   \n",
            "3             0.0             0.9724   \n",
            "4             3.0             0.7333   \n",
            "\n",
            "                                      Topic_Keywords  \\\n",
            "0  give, song, purchase, big, mother, play, fast,...   \n",
            "1  expect, product, connection, play, music, grea...   \n",
            "2  love, alexa, buy, friend, versatile, fun, enjo...   \n",
            "3  echo, play, great, music, connection, product,...   \n",
            "4  love, alexa, buy, friend, versatile, fun, enjo...   \n",
            "\n",
            "                                                   0          1  \n",
            "0  purchased mother knee problem give something t... 2018-07-30  \n",
            "1                                           expected 2018-07-30  \n",
            "2                    love alexa bought others friend 2018-07-30  \n",
            "3  star generally like product great ask like pla... 2018-07-30  \n",
            "4                                      versatile fun 2018-07-30  \n",
            "[t-SNE] Computing 13 nearest neighbors...\n",
            "[t-SNE] Indexed 14 samples in 0.000s...\n",
            "[t-SNE] Computed neighbors for 14 samples in 0.002s...\n",
            "[t-SNE] Computed conditional probabilities for sample 14 / 14\n",
            "[t-SNE] Mean sigma: 1125899906842624.000000\n"
          ]
        },
        {
          "output_type": "stream",
          "name": "stderr",
          "text": [
            "/usr/local/lib/python3.8/dist-packages/sklearn/manifold/_t_sne.py:790: FutureWarning: The default learning rate in TSNE will change from 200.0 to 'auto' in 1.2.\n",
            "  warnings.warn(\n",
            "/usr/local/lib/python3.8/dist-packages/sklearn/manifold/_t_sne.py:982: FutureWarning: The PCA initialization in TSNE will change to have the standard deviation of PC1 equal to 1e-4 in 1.2. This will ensure better convergence.\n",
            "  warnings.warn(\n"
          ]
        },
        {
          "output_type": "stream",
          "name": "stdout",
          "text": [
            "[t-SNE] KL divergence after 250 iterations with early exaggeration: 35.242523\n",
            "[t-SNE] KL divergence after 1000 iterations: -0.420269\n",
            "crunching LDA for:  Walnut Finish \n",
            "Added Walnut Finish  stopwords:\n",
            "\t Walnut\n",
            "\t Finish\n",
            "len(processed_docs) 9\n",
            "INSUFFICIENT DOCS TO RUN LINEAR DISCRIMINANT ANALYSIS\n",
            "SOMETHING WENT HORRIBLY WRONG WITH :  Walnut Finish \n",
            "DONE\n",
            "did 15 variations\n",
            "failed 1:\n",
            "Walnut Finish \n"
          ]
        }
      ]
    },
    {
      "cell_type": "markdown",
      "source": [
        "# EMBEDDING VECTORS PART"
      ],
      "metadata": {
        "id": "5fkbGLi7IXtx"
      }
    },
    {
      "cell_type": "code",
      "source": [
        "vects_df = embed_df.copy()"
      ],
      "metadata": {
        "id": "FK2of9aCIc5J"
      },
      "execution_count": 71,
      "outputs": []
    },
    {
      "cell_type": "code",
      "source": [
        "#words converted to sentences by tfidf weights.\n",
        "#Step 1. Prepare data\n",
        "#step 2. Have bogus word2vec (of the size of our vocab)\n",
        "#Step 3. Calculate a column containing word2vec for sentences"
      ],
      "metadata": {
        "id": "Z4-oKraqLju1"
      },
      "execution_count": 72,
      "outputs": []
    },
    {
      "cell_type": "code",
      "source": [
        "from sklearn.feature_extraction.text import TfidfVectorizer\n",
        "tfidf = TfidfVectorizer()\n",
        "tfidf_matrix = tfidf.fit_transform(vects_df.bigram).todense()\n",
        "vocab = tfidf.vocabulary_\n",
        "#vocab"
      ],
      "metadata": {
        "id": "ycngR8FjlHKq"
      },
      "execution_count": 73,
      "outputs": []
    },
    {
      "cell_type": "code",
      "source": [
        "word2vec = np.random.randn(len(vocab),300)"
      ],
      "metadata": {
        "id": "xyT7EVUNlZnx"
      },
      "execution_count": 74,
      "outputs": []
    },
    {
      "cell_type": "code",
      "source": [
        "sent2vec_matrix = np.dot(tfidf_matrix, word2vec) # word2vec here contains vectors in the same order as in vocab\n",
        "vects_df[\"ngram2vec\"] = sent2vec_matrix.tolist()"
      ],
      "metadata": {
        "id": "4EFsPpfulc9x"
      },
      "execution_count": 75,
      "outputs": []
    },
    {
      "cell_type": "code",
      "source": [
        "#vects_df"
      ],
      "metadata": {
        "id": "rmgivp_ylqyI"
      },
      "execution_count": 76,
      "outputs": []
    },
    {
      "cell_type": "code",
      "source": [
        "vects_df = vects_df.ngram2vec.apply(pd.Series) #split horizontally "
      ],
      "metadata": {
        "id": "Fi5Lq-URVtfx"
      },
      "execution_count": 77,
      "outputs": []
    },
    {
      "cell_type": "code",
      "source": [
        "from google.colab import files\n",
        "\n",
        "vects_df.to_csv('/content/drive/MyDrive/Dash_plotly_home/vects_df_n.csv',index = False)\n",
        "files.download('/content/drive/MyDrive/Dash_plotly_home/vects_df_n.csv')\n",
        "!cp -r \"/content/drive/MyDrive/Dash_plotly_home/vects_df_n.csv\" \"/content/drive/MyDrive/Dash_plotly_home/\"\n"
      ],
      "metadata": {
        "colab": {
          "base_uri": "https://localhost:8080/",
          "height": 35
        },
        "id": "0QPUX9Iz6jGp",
        "outputId": "b6649089-a12a-4beb-fa45-9bcf17d1e8e7"
      },
      "execution_count": 78,
      "outputs": [
        {
          "output_type": "display_data",
          "data": {
            "text/plain": [
              "<IPython.core.display.Javascript object>"
            ],
            "application/javascript": [
              "\n",
              "    async function download(id, filename, size) {\n",
              "      if (!google.colab.kernel.accessAllowed) {\n",
              "        return;\n",
              "      }\n",
              "      const div = document.createElement('div');\n",
              "      const label = document.createElement('label');\n",
              "      label.textContent = `Downloading \"${filename}\": `;\n",
              "      div.appendChild(label);\n",
              "      const progress = document.createElement('progress');\n",
              "      progress.max = size;\n",
              "      div.appendChild(progress);\n",
              "      document.body.appendChild(div);\n",
              "\n",
              "      const buffers = [];\n",
              "      let downloaded = 0;\n",
              "\n",
              "      const channel = await google.colab.kernel.comms.open(id);\n",
              "      // Send a message to notify the kernel that we're ready.\n",
              "      channel.send({})\n",
              "\n",
              "      for await (const message of channel.messages) {\n",
              "        // Send a message to notify the kernel that we're ready.\n",
              "        channel.send({})\n",
              "        if (message.buffers) {\n",
              "          for (const buffer of message.buffers) {\n",
              "            buffers.push(buffer);\n",
              "            downloaded += buffer.byteLength;\n",
              "            progress.value = downloaded;\n",
              "          }\n",
              "        }\n",
              "      }\n",
              "      const blob = new Blob(buffers, {type: 'application/binary'});\n",
              "      const a = document.createElement('a');\n",
              "      a.href = window.URL.createObjectURL(blob);\n",
              "      a.download = filename;\n",
              "      div.appendChild(a);\n",
              "      a.click();\n",
              "      div.remove();\n",
              "    }\n",
              "  "
            ]
          },
          "metadata": {}
        },
        {
          "output_type": "display_data",
          "data": {
            "text/plain": [
              "<IPython.core.display.Javascript object>"
            ],
            "application/javascript": [
              "download(\"download_d38c32c1-075b-4b1c-8552-c0ddd22fef9a\", \"vects_df_n.csv\", 130547)"
            ]
          },
          "metadata": {}
        },
        {
          "output_type": "stream",
          "name": "stdout",
          "text": [
            "cp: '/content/drive/MyDrive/Dash_plotly_home/vects_df_n.csv' and '/content/drive/MyDrive/Dash_plotly_home/vects_df_n.csv' are the same file\n"
          ]
        }
      ]
    },
    {
      "cell_type": "markdown",
      "source": [
        "# DASH PART"
      ],
      "metadata": {
        "id": "1sklXMphtdgN"
      }
    },
    {
      "cell_type": "code",
      "source": [
        "!pip install dash pip install emoji\n",
        "!pip install dash_bootstrap_components\n",
        "!pip install jupyter-dash"
      ],
      "metadata": {
        "id": "t32BPqh8n29w",
        "colab": {
          "base_uri": "https://localhost:8080/"
        },
        "outputId": "8a1f7d97-b64a-476b-f36f-45b957504e4c"
      },
      "execution_count": 79,
      "outputs": [
        {
          "output_type": "stream",
          "name": "stdout",
          "text": [
            "Looking in indexes: https://pypi.org/simple, https://us-python.pkg.dev/colab-wheels/public/simple/\n",
            "Collecting dash\n",
            "  Downloading dash-2.8.0-py3-none-any.whl (9.9 MB)\n",
            "\u001b[2K     \u001b[90m━━━━━━━━━━━━━━━━━━━━━━━━━━━━━━━━━━━━━━━━\u001b[0m \u001b[32m9.9/9.9 MB\u001b[0m \u001b[31m82.1 MB/s\u001b[0m eta \u001b[36m0:00:00\u001b[0m\n",
            "\u001b[?25hRequirement already satisfied: pip in /usr/local/lib/python3.8/dist-packages (22.0.4)\n",
            "Collecting install\n",
            "  Downloading install-1.3.5-py3-none-any.whl (3.2 kB)\n",
            "Collecting emoji\n",
            "  Downloading emoji-2.2.0.tar.gz (240 kB)\n",
            "\u001b[2K     \u001b[90m━━━━━━━━━━━━━━━━━━━━━━━━━━━━━━━━━━━━━━\u001b[0m \u001b[32m240.9/240.9 KB\u001b[0m \u001b[31m35.8 MB/s\u001b[0m eta \u001b[36m0:00:00\u001b[0m\n",
            "\u001b[?25h  Preparing metadata (setup.py) ... \u001b[?25l\u001b[?25hdone\n",
            "Requirement already satisfied: plotly>=5.0.0 in /usr/local/lib/python3.8/dist-packages (from dash) (5.5.0)\n",
            "Collecting dash-html-components==2.0.0\n",
            "  Downloading dash_html_components-2.0.0-py3-none-any.whl (4.1 kB)\n",
            "Requirement already satisfied: Flask>=1.0.4 in /usr/local/lib/python3.8/dist-packages (from dash) (1.1.4)\n",
            "Collecting dash-table==5.0.0\n",
            "  Downloading dash_table-5.0.0-py3-none-any.whl (3.9 kB)\n",
            "Collecting dash-core-components==2.0.0\n",
            "  Downloading dash_core_components-2.0.0-py3-none-any.whl (3.8 kB)\n",
            "Requirement already satisfied: click<8.0,>=5.1 in /usr/local/lib/python3.8/dist-packages (from Flask>=1.0.4->dash) (7.1.2)\n",
            "Requirement already satisfied: Jinja2<3.0,>=2.10.1 in /usr/local/lib/python3.8/dist-packages (from Flask>=1.0.4->dash) (2.11.3)\n",
            "Requirement already satisfied: itsdangerous<2.0,>=0.24 in /usr/local/lib/python3.8/dist-packages (from Flask>=1.0.4->dash) (1.1.0)\n",
            "Requirement already satisfied: Werkzeug<2.0,>=0.15 in /usr/local/lib/python3.8/dist-packages (from Flask>=1.0.4->dash) (1.0.1)\n",
            "Requirement already satisfied: tenacity>=6.2.0 in /usr/local/lib/python3.8/dist-packages (from plotly>=5.0.0->dash) (8.1.0)\n",
            "Requirement already satisfied: six in /usr/local/lib/python3.8/dist-packages (from plotly>=5.0.0->dash) (1.15.0)\n",
            "Requirement already satisfied: MarkupSafe>=0.23 in /usr/local/lib/python3.8/dist-packages (from Jinja2<3.0,>=2.10.1->Flask>=1.0.4->dash) (2.0.1)\n",
            "Building wheels for collected packages: emoji\n",
            "  Building wheel for emoji (setup.py) ... \u001b[?25l\u001b[?25hdone\n",
            "  Created wheel for emoji: filename=emoji-2.2.0-py3-none-any.whl size=234926 sha256=0c1d13860fa1cedf89b3edd1291954573f20362f4814a7b6a9fb5e8899416c40\n",
            "  Stored in directory: /root/.cache/pip/wheels/86/62/9e/a6b27a681abcde69970dbc0326ff51955f3beac72f15696984\n",
            "Successfully built emoji\n",
            "Installing collected packages: dash-table, dash-html-components, dash-core-components, install, emoji, dash\n",
            "Successfully installed dash-2.8.0 dash-core-components-2.0.0 dash-html-components-2.0.0 dash-table-5.0.0 emoji-2.2.0 install-1.3.5\n",
            "Looking in indexes: https://pypi.org/simple, https://us-python.pkg.dev/colab-wheels/public/simple/\n",
            "Collecting dash_bootstrap_components\n",
            "  Downloading dash_bootstrap_components-1.3.1-py3-none-any.whl (219 kB)\n",
            "\u001b[2K     \u001b[90m━━━━━━━━━━━━━━━━━━━━━━━━━━━━━━━━━━━━━━\u001b[0m \u001b[32m219.7/219.7 KB\u001b[0m \u001b[31m14.6 MB/s\u001b[0m eta \u001b[36m0:00:00\u001b[0m\n",
            "\u001b[?25hRequirement already satisfied: dash>=2.0.0 in /usr/local/lib/python3.8/dist-packages (from dash_bootstrap_components) (2.8.0)\n",
            "Requirement already satisfied: Flask>=1.0.4 in /usr/local/lib/python3.8/dist-packages (from dash>=2.0.0->dash_bootstrap_components) (1.1.4)\n",
            "Requirement already satisfied: plotly>=5.0.0 in /usr/local/lib/python3.8/dist-packages (from dash>=2.0.0->dash_bootstrap_components) (5.5.0)\n",
            "Requirement already satisfied: dash-table==5.0.0 in /usr/local/lib/python3.8/dist-packages (from dash>=2.0.0->dash_bootstrap_components) (5.0.0)\n",
            "Requirement already satisfied: dash-core-components==2.0.0 in /usr/local/lib/python3.8/dist-packages (from dash>=2.0.0->dash_bootstrap_components) (2.0.0)\n",
            "Requirement already satisfied: dash-html-components==2.0.0 in /usr/local/lib/python3.8/dist-packages (from dash>=2.0.0->dash_bootstrap_components) (2.0.0)\n",
            "Requirement already satisfied: click<8.0,>=5.1 in /usr/local/lib/python3.8/dist-packages (from Flask>=1.0.4->dash>=2.0.0->dash_bootstrap_components) (7.1.2)\n",
            "Requirement already satisfied: itsdangerous<2.0,>=0.24 in /usr/local/lib/python3.8/dist-packages (from Flask>=1.0.4->dash>=2.0.0->dash_bootstrap_components) (1.1.0)\n",
            "Requirement already satisfied: Werkzeug<2.0,>=0.15 in /usr/local/lib/python3.8/dist-packages (from Flask>=1.0.4->dash>=2.0.0->dash_bootstrap_components) (1.0.1)\n",
            "Requirement already satisfied: Jinja2<3.0,>=2.10.1 in /usr/local/lib/python3.8/dist-packages (from Flask>=1.0.4->dash>=2.0.0->dash_bootstrap_components) (2.11.3)\n",
            "Requirement already satisfied: tenacity>=6.2.0 in /usr/local/lib/python3.8/dist-packages (from plotly>=5.0.0->dash>=2.0.0->dash_bootstrap_components) (8.1.0)\n",
            "Requirement already satisfied: six in /usr/local/lib/python3.8/dist-packages (from plotly>=5.0.0->dash>=2.0.0->dash_bootstrap_components) (1.15.0)\n",
            "Requirement already satisfied: MarkupSafe>=0.23 in /usr/local/lib/python3.8/dist-packages (from Jinja2<3.0,>=2.10.1->Flask>=1.0.4->dash>=2.0.0->dash_bootstrap_components) (2.0.1)\n",
            "Installing collected packages: dash_bootstrap_components\n",
            "Successfully installed dash_bootstrap_components-1.3.1\n",
            "Looking in indexes: https://pypi.org/simple, https://us-python.pkg.dev/colab-wheels/public/simple/\n",
            "Collecting jupyter-dash\n",
            "  Downloading jupyter_dash-0.4.2-py3-none-any.whl (23 kB)\n",
            "Collecting ansi2html\n",
            "  Downloading ansi2html-1.8.0-py3-none-any.whl (16 kB)\n",
            "Collecting nest-asyncio\n",
            "  Downloading nest_asyncio-1.5.6-py3-none-any.whl (5.2 kB)\n",
            "Requirement already satisfied: ipykernel in /usr/local/lib/python3.8/dist-packages (from jupyter-dash) (5.3.4)\n",
            "Requirement already satisfied: flask in /usr/local/lib/python3.8/dist-packages (from jupyter-dash) (1.1.4)\n",
            "Requirement already satisfied: requests in /usr/local/lib/python3.8/dist-packages (from jupyter-dash) (2.25.1)\n",
            "Requirement already satisfied: ipython in /usr/local/lib/python3.8/dist-packages (from jupyter-dash) (7.9.0)\n",
            "Requirement already satisfied: dash in /usr/local/lib/python3.8/dist-packages (from jupyter-dash) (2.8.0)\n",
            "Collecting retrying\n",
            "  Downloading retrying-1.3.4-py3-none-any.whl (11 kB)\n",
            "Requirement already satisfied: dash-core-components==2.0.0 in /usr/local/lib/python3.8/dist-packages (from dash->jupyter-dash) (2.0.0)\n",
            "Requirement already satisfied: dash-table==5.0.0 in /usr/local/lib/python3.8/dist-packages (from dash->jupyter-dash) (5.0.0)\n",
            "Requirement already satisfied: dash-html-components==2.0.0 in /usr/local/lib/python3.8/dist-packages (from dash->jupyter-dash) (2.0.0)\n",
            "Requirement already satisfied: plotly>=5.0.0 in /usr/local/lib/python3.8/dist-packages (from dash->jupyter-dash) (5.5.0)\n",
            "Requirement already satisfied: Werkzeug<2.0,>=0.15 in /usr/local/lib/python3.8/dist-packages (from flask->jupyter-dash) (1.0.1)\n",
            "Requirement already satisfied: Jinja2<3.0,>=2.10.1 in /usr/local/lib/python3.8/dist-packages (from flask->jupyter-dash) (2.11.3)\n",
            "Requirement already satisfied: itsdangerous<2.0,>=0.24 in /usr/local/lib/python3.8/dist-packages (from flask->jupyter-dash) (1.1.0)\n",
            "Requirement already satisfied: click<8.0,>=5.1 in /usr/local/lib/python3.8/dist-packages (from flask->jupyter-dash) (7.1.2)\n",
            "Requirement already satisfied: tornado>=4.2 in /usr/local/lib/python3.8/dist-packages (from ipykernel->jupyter-dash) (6.0.4)\n",
            "Requirement already satisfied: jupyter-client in /usr/local/lib/python3.8/dist-packages (from ipykernel->jupyter-dash) (6.1.12)\n",
            "Requirement already satisfied: traitlets>=4.1.0 in /usr/local/lib/python3.8/dist-packages (from ipykernel->jupyter-dash) (5.7.1)\n",
            "Requirement already satisfied: pygments in /usr/local/lib/python3.8/dist-packages (from ipython->jupyter-dash) (2.6.1)\n",
            "Requirement already satisfied: setuptools>=18.5 in /usr/local/lib/python3.8/dist-packages (from ipython->jupyter-dash) (57.4.0)\n",
            "Requirement already satisfied: backcall in /usr/local/lib/python3.8/dist-packages (from ipython->jupyter-dash) (0.2.0)\n",
            "Requirement already satisfied: decorator in /usr/local/lib/python3.8/dist-packages (from ipython->jupyter-dash) (4.4.2)\n",
            "Requirement already satisfied: pickleshare in /usr/local/lib/python3.8/dist-packages (from ipython->jupyter-dash) (0.7.5)\n",
            "Requirement already satisfied: pexpect in /usr/local/lib/python3.8/dist-packages (from ipython->jupyter-dash) (4.8.0)\n",
            "Requirement already satisfied: jedi>=0.10 in /usr/local/lib/python3.8/dist-packages (from ipython->jupyter-dash) (0.18.2)\n",
            "Requirement already satisfied: prompt-toolkit<2.1.0,>=2.0.0 in /usr/local/lib/python3.8/dist-packages (from ipython->jupyter-dash) (2.0.10)\n",
            "Requirement already satisfied: idna<3,>=2.5 in /usr/local/lib/python3.8/dist-packages (from requests->jupyter-dash) (2.10)\n",
            "Requirement already satisfied: urllib3<1.27,>=1.21.1 in /usr/local/lib/python3.8/dist-packages (from requests->jupyter-dash) (1.24.3)\n",
            "Requirement already satisfied: chardet<5,>=3.0.2 in /usr/local/lib/python3.8/dist-packages (from requests->jupyter-dash) (4.0.0)\n",
            "Requirement already satisfied: certifi>=2017.4.17 in /usr/local/lib/python3.8/dist-packages (from requests->jupyter-dash) (2022.12.7)\n",
            "Requirement already satisfied: six>=1.7.0 in /usr/local/lib/python3.8/dist-packages (from retrying->jupyter-dash) (1.15.0)\n",
            "Requirement already satisfied: parso<0.9.0,>=0.8.0 in /usr/local/lib/python3.8/dist-packages (from jedi>=0.10->ipython->jupyter-dash) (0.8.3)\n",
            "Requirement already satisfied: MarkupSafe>=0.23 in /usr/local/lib/python3.8/dist-packages (from Jinja2<3.0,>=2.10.1->flask->jupyter-dash) (2.0.1)\n",
            "Requirement already satisfied: tenacity>=6.2.0 in /usr/local/lib/python3.8/dist-packages (from plotly>=5.0.0->dash->jupyter-dash) (8.1.0)\n",
            "Requirement already satisfied: wcwidth in /usr/local/lib/python3.8/dist-packages (from prompt-toolkit<2.1.0,>=2.0.0->ipython->jupyter-dash) (0.2.5)\n",
            "Requirement already satisfied: jupyter-core>=4.6.0 in /usr/local/lib/python3.8/dist-packages (from jupyter-client->ipykernel->jupyter-dash) (5.1.3)\n",
            "Requirement already satisfied: python-dateutil>=2.1 in /usr/local/lib/python3.8/dist-packages (from jupyter-client->ipykernel->jupyter-dash) (2.8.2)\n",
            "Requirement already satisfied: pyzmq>=13 in /usr/local/lib/python3.8/dist-packages (from jupyter-client->ipykernel->jupyter-dash) (23.2.1)\n",
            "Requirement already satisfied: ptyprocess>=0.5 in /usr/local/lib/python3.8/dist-packages (from pexpect->ipython->jupyter-dash) (0.7.0)\n",
            "Requirement already satisfied: platformdirs>=2.5 in /usr/local/lib/python3.8/dist-packages (from jupyter-core>=4.6.0->jupyter-client->ipykernel->jupyter-dash) (2.6.2)\n",
            "Installing collected packages: retrying, nest-asyncio, ansi2html, jupyter-dash\n",
            "Successfully installed ansi2html-1.8.0 jupyter-dash-0.4.2 nest-asyncio-1.5.6 retrying-1.3.4\n"
          ]
        }
      ]
    },
    {
      "cell_type": "code",
      "source": [
        "#since we are using google colab/jupyter we should use JupyterDash\n",
        "import dash_bootstrap_components as dbc\n",
        "from jupyter_dash import JupyterDash\n",
        "import dash\n",
        "from dash.dependencies import Input, Output\n",
        "import dash_table\n",
        "import dash_core_components as dcc\n",
        "import dash_html_components as html\n",
        "import pandas as pd\n",
        "import numpy as np \n",
        "import plotly.graph_objs as go\n",
        "import emoji\n",
        "import pandas as pd\n",
        "import plotly\n",
        "from plotly.offline import iplot\n",
        "from plotly.offline import init_notebook_mode, iplot\n",
        "from plotly.offline import init_notebook_mode,iplot\n",
        "import plotly.graph_objects as go\n",
        "import cufflinks as cf\n",
        "init_notebook_mode(connected=True)\n",
        "import plotly.express as px\n",
        "from dash.dependencies import Output, Input, State\n",
        "from dateutil import relativedelta\n",
        "from wordcloud import WordCloud, STOPWORDS\n",
        "from sklearn.manifold import TSNE\n",
        "import pathlib\n",
        "import json\n",
        "import pathlib\n",
        "import re\n",
        "import json\n",
        "from datetime import datetime\n",
        "import flask"
      ],
      "metadata": {
        "id": "lX_lml8RtmTW",
        "colab": {
          "base_uri": "https://localhost:8080/",
          "height": 309
        },
        "outputId": "a7cce620-f812-486c-8744-8de9fd232c77"
      },
      "execution_count": 80,
      "outputs": [
        {
          "output_type": "stream",
          "name": "stderr",
          "text": [
            "<ipython-input-80-e6fdbc45c425>:6: UserWarning: \n",
            "The dash_table package is deprecated. Please replace\n",
            "`import dash_table` with `from dash import dash_table`\n",
            "\n",
            "Also, if you're using any of the table format helpers (e.g. Group), replace \n",
            "`from dash_table.Format import Group` with \n",
            "`from dash.dash_table.Format import Group`\n",
            "  import dash_table\n",
            "<ipython-input-80-e6fdbc45c425>:7: UserWarning: \n",
            "The dash_core_components package is deprecated. Please replace\n",
            "`import dash_core_components as dcc` with `from dash import dcc`\n",
            "  import dash_core_components as dcc\n",
            "<ipython-input-80-e6fdbc45c425>:8: UserWarning: \n",
            "The dash_html_components package is deprecated. Please replace\n",
            "`import dash_html_components as html` with `from dash import html`\n",
            "  import dash_html_components as html\n"
          ]
        },
        {
          "output_type": "display_data",
          "data": {
            "text/html": [
              "        <script type=\"text/javascript\">\n",
              "        window.PlotlyConfig = {MathJaxConfig: 'local'};\n",
              "        if (window.MathJax) {MathJax.Hub.Config({SVG: {font: \"STIX-Web\"}});}\n",
              "        if (typeof require !== 'undefined') {\n",
              "        require.undef(\"plotly\");\n",
              "        requirejs.config({\n",
              "            paths: {\n",
              "                'plotly': ['https://cdn.plot.ly/plotly-2.8.3.min']\n",
              "            }\n",
              "        });\n",
              "        require(['plotly'], function(Plotly) {\n",
              "            window._Plotly = Plotly;\n",
              "        });\n",
              "        }\n",
              "        </script>\n",
              "        "
            ]
          },
          "metadata": {}
        }
      ]
    },
    {
      "cell_type": "code",
      "source": [
        "#app = dash.Dash(__name__)   #,server= server , routes_pathname_prefix='/dash/' \n",
        "app = JupyterDash(__name__)  #since we are using google colab/jupyter we should use JupyterDash\n",
        " \n",
        "#app = dash.Dash(__name__, external_stylesheets=[dbc.themes.BOOTSTRAP])\n",
        "#server = app.server  # for Heroku deployment"
      ],
      "metadata": {
        "id": "QoM1kVOauF-D"
      },
      "execution_count": 81,
      "outputs": []
    },
    {
      "cell_type": "code",
      "source": [
        "DATA_PATH = \"/content/drive/MyDrive/Dash_plotly_home\"\n",
        "EXTERNAL_STYLESHEETS = [\"https://codepen.io/chriddyp/pen/bWLwgP.css\"]\n",
        "FILENAME_PRECOMPUTED = \"/precomputed.json\"\n",
        "PLOTLY_LOGO = \"https://images.plot.ly/logo/new-branding/plotly-logomark.png\"\n",
        "with open(\"/content/drive/MyDrive/Dash_plotly_home/precomputed.json\") as precomputed_file:\n",
        "    PRECOMPUTED_LDA = json.load(precomputed_file)\n",
        "\n",
        "GLOBAL_DF1 = reviews_df\n",
        "\"\"\"\n",
        "We are casting the whole column to datetime to make life easier in the rest of the code.\n",
        "It isn't a terribly expensive operation so for the sake of tidyness we went this way.\n",
        "\"\"\"\n",
        "GLOBAL_DF[\"Date received\"] = pd.to_datetime(\n",
        "    GLOBAL_DF[\"Date received\"], format=\"%m/%d/%Y\"\n",
        ")\n",
        "\n",
        "\"\"\"\n",
        "In order to make the graphs more useful we decided to prevent some words from being included\n",
        "\"\"\"\n",
        "ADDITIONAL_STOPWORDS = [\n",
        "    \"XXXX\",\n",
        "    \"XX\",\n",
        "    \"xx\",\n",
        "    \"xxxx\",\n",
        "    \"n't\",\n",
        "]\n",
        "for stopword in ADDITIONAL_STOPWORDS:\n",
        "    STOPWORDS.add(stopword)"
      ],
      "metadata": {
        "id": "XG7RHTWILAvW"
      },
      "execution_count": 82,
      "outputs": []
    },
    {
      "cell_type": "code",
      "source": [
        "def sample_data(dataframe, float_percent):\n",
        "    \"\"\"\n",
        "    Returns a subset of the provided dataframe.\n",
        "    The sampling is evenly distributed and reproducible\n",
        "    \"\"\"\n",
        "    print(\"making a local_df data sample with float_percent: %s\" % (float_percent))\n",
        "    return dataframe.sample(frac=float_percent, random_state=1)\n",
        "\n",
        "\n",
        "def get_complaint_count_by_company(dataframe):\n",
        "    \"\"\" Helper function to get review counts for unique variations \"\"\"\n",
        "    company_counts = dataframe[\"variation\"].value_counts()\n",
        "    # we filter out all banks with less than 11 reviews for now\n",
        "    company_counts = company_counts[company_counts > 10]\n",
        "    values = company_counts.keys().tolist()\n",
        "    counts = company_counts.tolist()\n",
        "    return values, counts\n",
        "\n",
        "\n",
        "def calculate_bank_sample_data(dataframe, sample_size, time_values):\n",
        "    \"\"\" TODO \"\"\"\n",
        "    print(\n",
        "        \"making reviews_sample_data with sample_size count: %s and time_values: %s\"\n",
        "        % (sample_size, time_values)\n",
        "    )\n",
        "    if time_values is not None:\n",
        "        min_date = time_values[0]\n",
        "        max_date = time_values[1]\n",
        "        dataframe = dataframe[\n",
        "            (dataframe[\"Date received\"] >= min_date)\n",
        "            & (dataframe[\"Date received\"] <= max_date)\n",
        "        ]\n",
        "    company_counts = dataframe[\"variation\"].value_counts()\n",
        "    company_counts_sample = company_counts[:sample_size]\n",
        "    values_sample = company_counts_sample.keys().tolist()\n",
        "    counts_sample = company_counts_sample.tolist()\n",
        "\n",
        "    return values_sample, counts_sample\n",
        "\n",
        "\n",
        "def make_local_df(selected_bank, time_values, n_selection):\n",
        "    \"\"\" TODO \"\"\"\n",
        "    print(\"redrawing dataset-wordcloud...\")\n",
        "    n_float = float(n_selection / 100)\n",
        "    print(\"got time window:\", str(time_values))\n",
        "    print(\"got n_selection:\", str(n_selection), str(n_float))\n",
        "    # sample the dataset according to the slider\n",
        "    local_df = sample_data(reviews_df, n_float)\n",
        "    if time_values is not None:\n",
        "        time_values = time_slider_to_date(time_values)\n",
        "        local_df = local_df[\n",
        "            (local_df[\"Date received\"] >= time_values[0])\n",
        "            & (local_df[\"Date received\"] <= time_values[1])\n",
        "        ]\n",
        "    if selected_bank:\n",
        "        local_df = local_df[local_df[\"variation\"] == selected_bank]\n",
        "        \n",
        "    return local_df\n",
        "\n",
        "\n",
        "def make_marks_time_slider(mini, maxi):\n",
        "    \"\"\"\n",
        "    A helper function to generate a dictionary that should look something like:\n",
        "    {1420066800: '2015', 1427839200: 'Q2', 1435701600: 'Q3', 1443650400: 'Q4',\n",
        "    1451602800: '2016', 1459461600: 'Q2', 1467324000: 'Q3', 1475272800: 'Q4',\n",
        "     1483225200: '2017', 1490997600: 'Q2', 1498860000: 'Q3', 1506808800: 'Q4'}\n",
        "    \"\"\"\n",
        "    step = relativedelta.relativedelta(months=+1)\n",
        "    start = datetime(year=mini.year, month=1, day=1)\n",
        "    end = datetime(year=maxi.year, month=maxi.month, day=30)\n",
        "    ret = {}\n",
        "\n",
        "    current = start\n",
        "    while current <= end:\n",
        "        current_str = int(current.timestamp())\n",
        "        if current.month == 1:\n",
        "            ret[current_str] = {\n",
        "                \"label\": str(current.year),\n",
        "                \"style\": {\"font-weight\": \"bold\"},\n",
        "            }\n",
        "        elif current.month == 4:\n",
        "            ret[current_str] = {\n",
        "                \"label\": \"Q2\",\n",
        "                \"style\": {\"font-weight\": \"lighter\", \"font-size\": 7},\n",
        "            }\n",
        "        elif current.month == 7:\n",
        "            ret[current_str] = {\n",
        "                \"label\": \"Q3\",\n",
        "                \"style\": {\"font-weight\": \"lighter\", \"font-size\": 7},\n",
        "            }\n",
        "        elif current.month == 10:\n",
        "            ret[current_str] = {\n",
        "                \"label\": \"Q4\",\n",
        "                \"style\": {\"font-weight\": \"lighter\", \"font-size\": 7},\n",
        "            }\n",
        "        else:\n",
        "            pass\n",
        "        current += step\n",
        "    # print(ret)\n",
        "    return ret\n",
        "\n",
        "\n",
        "def time_slider_to_date(time_values):\n",
        "    \"\"\" TODO \"\"\"\n",
        "    min_date = datetime.fromtimestamp(time_values[0]).strftime(\"%c\")\n",
        "    max_date = datetime.fromtimestamp(time_values[1]).strftime(\"%c\")\n",
        "    print(\"Converted time_values: \")\n",
        "    print(\"\\tmin_date:\", time_values[0], \"to: \", min_date)\n",
        "    print(\"\\tmax_date:\", time_values[1], \"to: \", max_date)\n",
        "    return [min_date, max_date]\n",
        "\n",
        "\n",
        "def make_options_bank_drop(values):\n",
        "    \"\"\"\n",
        "    Helper function to generate the data format the dropdown dash component wants\n",
        "    \"\"\"\n",
        "    ret = []\n",
        "    for value in values:\n",
        "        ret.append({\"label\": value, \"value\": value})\n",
        "    return ret\n",
        "\n",
        "import matplotlib.colors as mcolors\n",
        "def populate_lda_scatter(tsne_df, df_top3words, df_dominant_topic):\n",
        "    \"\"\"Calculates LDA and returns figure data you can jam into a dcc.Graph()\"\"\"\n",
        "    mycolors = np.array([color for name, color in mcolors.TABLEAU_COLORS.items()])\n",
        "\n",
        "    # for each topic we create a separate trace\n",
        "    traces = []\n",
        "    for topic_id in df_top3words[\"topic_id\"]:\n",
        "        tsne_df_f = tsne_df[tsne_df.topic_num == topic_id]\n",
        "        cluster_name = \", \".join(\n",
        "            df_top3words[df_top3words[\"topic_id\"] == topic_id][\"words\"].to_list()\n",
        "        )\n",
        "        trace = go.Scatter(\n",
        "            name=cluster_name,\n",
        "            x=tsne_df_f[\"tsne_x\"],\n",
        "            y=tsne_df_f[\"tsne_y\"],\n",
        "            mode=\"markers\",\n",
        "            hovertext=tsne_df_f[\"doc_num\"],\n",
        "            marker=dict(\n",
        "                size=6,\n",
        "                color=mycolors[tsne_df_f[\"topic_num\"]],  # set color equal to a variable\n",
        "                colorscale=\"Viridis\",\n",
        "                showscale=False,\n",
        "            ),\n",
        "        )\n",
        "        traces.append(trace)\n",
        "\n",
        "    layout = go.Layout({\"title\": \"Topic analysis using LDA\"})\n",
        "\n",
        "    return {\"data\": traces, \"layout\": layout}\n",
        "\n",
        "\n",
        "def plotly_wordcloud(data_frame):\n",
        "    \"\"\"A wonderful function that returns figure data for three equally\n",
        "    wonderful plots: wordcloud, frequency histogram and treemap\"\"\"\n",
        "    complaints_text = list(data_frame[\"verified_reviews\"].dropna().values)\n",
        "\n",
        "    if len(complaints_text) < 1:\n",
        "        return {}, {}, {}\n",
        "\n",
        "    # join all documents in corpus\n",
        "    text = \" \".join(list(complaints_text))\n",
        "\n",
        "    word_cloud = WordCloud(stopwords=set(STOPWORDS), max_words=80, max_font_size=90)\n",
        "    word_cloud.generate(text)\n",
        "\n",
        "    word_list = []\n",
        "    freq_list = []\n",
        "    fontsize_list = []\n",
        "    position_list = []\n",
        "    orientation_list = []\n",
        "    color_list = []\n",
        "\n",
        "    for (word, freq), fontsize, position, orientation, color in word_cloud.layout_:\n",
        "        word_list.append(word)\n",
        "        freq_list.append(freq)\n",
        "        fontsize_list.append(fontsize)\n",
        "        position_list.append(position)\n",
        "        orientation_list.append(orientation)\n",
        "        color_list.append(color)\n",
        "\n",
        "    # get the positions\n",
        "    x_arr = []\n",
        "    y_arr = []\n",
        "    for i in position_list:\n",
        "        x_arr.append(i[0])\n",
        "        y_arr.append(i[1])\n",
        "\n",
        "    # get the relative occurence frequencies\n",
        "    new_freq_list = []\n",
        "    for i in freq_list:\n",
        "        new_freq_list.append(i * 80)\n",
        "\n",
        "    trace = go.Scatter(\n",
        "        x=x_arr,\n",
        "        y=y_arr,\n",
        "        textfont=dict(size=new_freq_list, color=color_list),\n",
        "        hoverinfo=\"text\",\n",
        "        textposition=\"top center\",\n",
        "        hovertext=[\"{0} - {1}\".format(w, f) for w, f in zip(word_list, freq_list)],\n",
        "        mode=\"text\",\n",
        "        text=word_list,\n",
        "    )\n",
        "\n",
        "    layout = go.Layout(\n",
        "        {\n",
        "            \"xaxis\": {\n",
        "                \"showgrid\": False,\n",
        "                \"showticklabels\": False,\n",
        "                \"zeroline\": False,\n",
        "                \"automargin\": True,\n",
        "                \"range\": [-100, 250],\n",
        "            },\n",
        "            \"yaxis\": {\n",
        "                \"showgrid\": False,\n",
        "                \"showticklabels\": False,\n",
        "                \"zeroline\": False,\n",
        "                \"automargin\": True,\n",
        "                \"range\": [-100, 450],\n",
        "            },\n",
        "            \"margin\": dict(t=20, b=20, l=10, r=10, pad=4),\n",
        "            \"hovermode\": \"closest\",\n",
        "        }\n",
        "    )\n",
        "\n",
        "    wordcloud_figure_data = {\"data\": [trace], \"layout\": layout}\n",
        "    word_list_top = word_list[:15]\n",
        "    word_list_top.reverse()\n",
        "    freq_list_top = freq_list[:15]\n",
        "    freq_list_top.reverse()\n",
        "\n",
        "    frequency_figure_data = {\n",
        "        \"data\": [\n",
        "            {\n",
        "                \"y\": word_list_top,\n",
        "                \"x\": freq_list_top,\n",
        "                \"type\": \"bar\",\n",
        "                \"name\": \"\",\n",
        "                \"orientation\": \"h\",\n",
        "            }\n",
        "        ],\n",
        "        \"layout\": {\"height\": \"550\", \"margin\": dict(t=20, b=20, l=100, r=20, pad=4)},\n",
        "    }\n",
        "    treemap_trace = go.Treemap(\n",
        "        labels=word_list_top, parents=[\"\"] * len(word_list_top), values=freq_list_top\n",
        "    )\n",
        "    treemap_layout = go.Layout({\"margin\": dict(t=10, b=10, l=5, r=5, pad=4)})\n",
        "    treemap_figure = {\"data\": [treemap_trace], \"layout\": treemap_layout}\n",
        "    return wordcloud_figure_data, frequency_figure_data, treemap_figure\n",
        "\n",
        "\n",
        "\"\"\"\n",
        "#  Page layout and contents\n",
        "In an effort to clean up the code a bit, we decided to break it apart into\n",
        "sections. For instance: LEFT_COLUMN is the input controls you see in that gray\n",
        "box on the top left. The body variable is the overall structure which most other\n",
        "sections go into. This just makes it ever so slightly easier to find the right\n",
        "spot to add to or change without having to count too many brackets.\n",
        "\"\"\"\n"
      ],
      "metadata": {
        "id": "EU7FqdvZOUuI",
        "colab": {
          "base_uri": "https://localhost:8080/",
          "height": 72
        },
        "outputId": "6950394d-55c1-4c10-fafa-c2dbda8abb74"
      },
      "execution_count": 83,
      "outputs": [
        {
          "output_type": "execute_result",
          "data": {
            "text/plain": [
              "'\\n#  Page layout and contents\\nIn an effort to clean up the code a bit, we decided to break it apart into\\nsections. For instance: LEFT_COLUMN is the input controls you see in that gray\\nbox on the top left. The body variable is the overall structure which most other\\nsections go into. This just makes it ever so slightly easier to find the right\\nspot to add to or change without having to count too many brackets.\\n'"
            ],
            "application/vnd.google.colaboratory.intrinsic+json": {
              "type": "string"
            }
          },
          "metadata": {},
          "execution_count": 83
        }
      ]
    },
    {
      "cell_type": "code",
      "source": [
        "NAVBAR = dbc.Navbar(\n",
        "    children=[\n",
        "        html.A(\n",
        "            # Use row and col to control vertical alignment of logo / brand\n",
        "            dbc.Row(\n",
        "                [\n",
        "                    dbc.Col(html.Img(src=PLOTLY_LOGO, height=\"30px\")),\n",
        "                    dbc.Col(\n",
        "                        dbc.NavbarBrand(\"NLP DASHBOARD for reviews classification\", className=\"ml-2\")\n",
        "                    ),\n",
        "                ],\n",
        "                align=\"center\",\n",
        "                \n",
        "            ),\n",
        "            href=\"https://plot.ly\",\n",
        "        )\n",
        "    ],\n",
        "    color=\"dark\",\n",
        "    dark=True,\n",
        "    sticky=\"top\",\n",
        ")\n",
        "\n",
        "LEFT_COLUMN = dbc.Col(html.Div(\n",
        "    [\n",
        "        html.H4(children=\"Select a variation & dataset size\", className=\"display-5\"),\n",
        "        html.Hr(className=\"my-2\"),\n",
        "        html.Label(\"Select percentage of dataset\", className=\"lead\"),\n",
        "        html.P(\n",
        "            \"(Lower is faster. Higher is more precise)\",\n",
        "            style={\"fontSize\": 10, \"font-weight\": \"lighter\"},\n",
        "        ),\n",
        "        dcc.Slider(\n",
        "            id=\"n-selection-slider\",\n",
        "            min=1,\n",
        "            max=100,\n",
        "            step=1,\n",
        "            marks={\n",
        "                0: \"0%\",\n",
        "                10: \"\",\n",
        "                20: \"20%\",\n",
        "                30: \"\",\n",
        "                40: \"40%\",\n",
        "                50: \"\",\n",
        "                60: \"60%\",\n",
        "                70: \"\",\n",
        "                80: \"80%\",\n",
        "                90: \"\",\n",
        "                100: \"100%\",\n",
        "            },\n",
        "            value=20,\n",
        "        ),\n",
        "        html.Label(\"Select a variation\", style={\"marginTop\": 50}, className=\"lead\"),\n",
        "        html.P(\n",
        "            \"(You can use the dropdown or click the barchart on the right)\",\n",
        "            style={\"fontSize\": 10, \"font-weight\": \"lighter\"},\n",
        "        ),\n",
        "        dcc.Dropdown(\n",
        "            id=\"bank-drop\", clearable=False, style={\"marginBottom\": 50, \"font-size\": 12}\n",
        "        ),\n",
        "        html.Label(\"Select time frame\", className=\"lead\"),\n",
        "        html.Div(dcc.RangeSlider(id=\"time-window-slider\"), style={\"marginBottom\": 50}),\n",
        "        html.P(\n",
        "            \"(You can define the time frame down to month granularity)\",\n",
        "            style={\"fontSize\": 10, \"font-weight\": \"lighter\"},\n",
        "        ),\n",
        "    ])\n",
        ")\n",
        "\n",
        "LDA_PLOT = dcc.Loading(\n",
        "    id=\"loading-lda-plot\", children=[dcc.Graph(id=\"tsne-lda\")], type=\"default\"\n",
        ")\n",
        "LDA_TABLE = html.Div(\n",
        "    id=\"lda-table-block\",\n",
        "    children=[\n",
        "        dcc.Loading(\n",
        "            id=\"loading-lda-table\",\n",
        "            children=[\n",
        "                dash_table.DataTable(\n",
        "                    id=\"lda-table\",\n",
        "                    style_cell_conditional=[\n",
        "                        {\n",
        "                            \"if\": {\"column_id\": \"Text\"},\n",
        "                            \"textAlign\": \"left\",\n",
        "                            \"whiteSpace\": \"normal\",\n",
        "                            \"height\": \"auto\",\n",
        "                            \"min-width\": \"50%\",\n",
        "                        }\n",
        "                    ],\n",
        "                    style_data_conditional=[\n",
        "                        {\n",
        "                            \"if\": {\"row_index\": \"odd\"},\n",
        "                            \"backgroundColor\": \"rgb(243, 246, 251)\",\n",
        "                        }\n",
        "                    ],\n",
        "                    style_cell={\n",
        "                        \"padding\": \"16px\",\n",
        "                        \"whiteSpace\": \"normal\",\n",
        "                        \"height\": \"auto\",\n",
        "                        \"max-width\": \"0\",\n",
        "                    },\n",
        "                    style_header={\"backgroundColor\": \"white\", \"fontWeight\": \"bold\"},\n",
        "                    style_data={\"whiteSpace\": \"normal\", \"height\": \"auto\"},\n",
        "                    filter_action=\"native\",\n",
        "                    page_action=\"native\",\n",
        "                    page_current=0,\n",
        "                    page_size=5,\n",
        "                    columns=[],\n",
        "                    data=[],\n",
        "                )\n",
        "            ],\n",
        "            type=\"default\",\n",
        "        )\n",
        "    ],\n",
        "    style={\"display\": \"none\"},\n",
        ")\n",
        "\n",
        "LDA_PLOTS = [\n",
        "    dbc.CardHeader(html.H5(\"Topic modelling using LDA\")),\n",
        "    dbc.Alert(\n",
        "        \"Not enough data to render LDA plots, please adjust the filters\",\n",
        "        id=\"no-data-alert-lda\",\n",
        "        color=\"warning\",\n",
        "        style={\"display\": \"none\"},\n",
        "    ),\n",
        "    dbc.CardBody(\n",
        "        [\n",
        "            html.P(\n",
        "                \"Click on a review point in the scatter to explore that specific reveiw\",\n",
        "                className=\"mb-0\",\n",
        "            ),\n",
        "            html.P(\n",
        "                \"(not affected by sample size or time frame selection)\",\n",
        "                style={\"fontSize\": 10, \"font-weight\": \"lighter\"},\n",
        "            ),\n",
        "            LDA_PLOT,\n",
        "            html.Hr(),\n",
        "            LDA_TABLE,\n",
        "        ]\n",
        "    ),\n",
        "]\n",
        "WORDCLOUD_PLOTS = [\n",
        "    dbc.CardHeader(html.H5(\"Most frequently used words in reviews\")),\n",
        "    dbc.Alert(\n",
        "        \"Not enough data to render these plots, please adjust the filters\",\n",
        "        id=\"no-data-alert\",\n",
        "        color=\"warning\",\n",
        "        style={\"display\": \"none\"},\n",
        "    ),\n",
        "    dbc.CardBody(\n",
        "        [\n",
        "            dbc.Row(\n",
        "                [\n",
        "                    dbc.Col(\n",
        "                        dcc.Loading(\n",
        "                            id=\"loading-frequencies\",\n",
        "                            children=[dcc.Graph(id=\"frequency_figure\")],\n",
        "                            type=\"default\",\n",
        "                        )\n",
        "                    ),\n",
        "                    dbc.Col(\n",
        "                        [\n",
        "                            dcc.Tabs(\n",
        "                                id=\"tabs\",\n",
        "                                children=[\n",
        "                                    dcc.Tab(\n",
        "                                        label=\"Treemap\",\n",
        "                                        children=[\n",
        "                                            dcc.Loading(\n",
        "                                                id=\"loading-treemap\",\n",
        "                                                children=[dcc.Graph(id=\"bank-treemap\")],\n",
        "                                                type=\"default\",\n",
        "                                            )\n",
        "                                        ],\n",
        "                                    ),\n",
        "                                    dcc.Tab(\n",
        "                                        label=\"Wordcloud\",\n",
        "                                        children=[\n",
        "                                            dcc.Loading(\n",
        "                                                id=\"loading-wordcloud\",\n",
        "                                                children=[\n",
        "                                                    dcc.Graph(id=\"bank-wordcloud\")\n",
        "                                                ],\n",
        "                                                type=\"default\",\n",
        "                                            )\n",
        "                                        ],\n",
        "                                    ),\n",
        "                                ],\n",
        "                            )\n",
        "                        ],\n",
        "                        md=8,\n",
        "                    ),\n",
        "                ]\n",
        "            )\n",
        "        ]\n",
        "    ),\n",
        "]\n",
        "\n",
        "TOP_BANKS_PLOT = [\n",
        "    dbc.CardHeader(html.H5(\"Top variations by number of verified reviews\")),\n",
        "    dbc.CardBody(\n",
        "        [\n",
        "            dcc.Loading(\n",
        "                id=\"loading-banks-hist\",\n",
        "                children=[\n",
        "                    dbc.Alert(\n",
        "                        \"Not enough data to render this plot, please adjust the filters\",\n",
        "                        id=\"no-data-alert-bank\",\n",
        "                        color=\"warning\",\n",
        "                        style={\"display\": \"none\"},\n",
        "                    ),\n",
        "                    dcc.Graph(id=\"bank-sample\"),\n",
        "                ],\n",
        "                type=\"default\",\n",
        "            )\n",
        "        ],\n",
        "        style={\"marginTop\": 0, \"marginBottom\": 0},\n",
        "    ),\n",
        "]\n",
        "\n",
        "TOP_BIGRAM_PLOT = [\n",
        "    dbc.CardHeader(html.H5(\"Top bigrams found in the database\")),\n",
        "    dbc.CardBody(\n",
        "        [\n",
        "            dcc.Loading(\n",
        "                id=\"loading-bigrams-scatter\",\n",
        "                children=[\n",
        "                    dbc.Alert(\n",
        "                        \"Something's gone wrong! Give us a moment, but try loading this page again if problem persists.\",\n",
        "                        id=\"no-data-alert-bigrams\",\n",
        "                        color=\"warning\",\n",
        "                        style={\"display\": \"none\"},\n",
        "                    ),\n",
        "                    dbc.Row(\n",
        "                        [\n",
        "                            dbc.Col(html.P([\"Choose a t-SNE perplexity value:\"]), md=6),\n",
        "                            dbc.Col(\n",
        "                                [\n",
        "                                    dcc.Dropdown(\n",
        "                                        id=\"bigrams-perplex-dropdown\",\n",
        "                                        options=[\n",
        "                                            {\"label\": str(i), \"value\": i}\n",
        "                                            for i in range(3, 7)\n",
        "                                        ],\n",
        "                                        value=3,\n",
        "                                    )\n",
        "                                ],\n",
        "                                md=3,\n",
        "                            ),\n",
        "                        ]\n",
        "                    ),\n",
        "                    dcc.Graph(id=\"bigrams-scatter\"),\n",
        "                ],\n",
        "                type=\"default\",\n",
        "            )\n",
        "        ],\n",
        "        style={\"marginTop\": 0, \"marginBottom\": 0},\n",
        "    ),\n",
        "]\n",
        "\n",
        "TOP_BIGRAM_COMPS = [\n",
        "    dbc.CardHeader(html.H5(\"Comparison of bigrams for two variations\")),\n",
        "    dbc.CardBody(\n",
        "        [\n",
        "            dcc.Loading(\n",
        "                id=\"loading-bigrams-comps\",\n",
        "                children=[\n",
        "                    dbc.Alert(\n",
        "                        \"Something's gone wrong! Give us a moment, but try loading this page again if problem persists.\",\n",
        "                        id=\"no-data-alert-bigrams_comp\",\n",
        "                        color=\"warning\",\n",
        "                        style={\"display\": \"none\"},\n",
        "                    ),\n",
        "                    dbc.Row(\n",
        "                        [\n",
        "                            dbc.Col(html.P(\"Choose two variations to compare:\"), md=12),\n",
        "                            dbc.Col(\n",
        "                                [\n",
        "                                    dcc.Dropdown(\n",
        "                                        id=\"bigrams-comp_1\",\n",
        "                                        options=[\n",
        "                                            {\"label\": i, \"value\": i}\n",
        "                                            for i in bigram_df.company.unique()\n",
        "                                        ],\n",
        "                                        value=\"Charcoal Fabric\",\n",
        "                                    )\n",
        "                                ],\n",
        "                                md=6,\n",
        "                            ),\n",
        "                            dbc.Col(\n",
        "                                [\n",
        "                                    dcc.Dropdown(\n",
        "                                        id=\"bigrams-comp_2\",\n",
        "                                        options=[\n",
        "                                            {\"label\": i, \"value\": i}\n",
        "                                            for i in bigram_df.company.unique()\n",
        "                                        ],\n",
        "                                        value=\"Heather Gray Fabric\",\n",
        "                                    )\n",
        "                                ],\n",
        "                                md=6,\n",
        "                            ),\n",
        "                        ]\n",
        "                    ),\n",
        "                    dcc.Graph(id=\"bigrams-comps\"),\n",
        "                ],\n",
        "                type=\"default\",\n",
        "            )\n",
        "        ],\n",
        "        style={\"marginTop\": 0, \"marginBottom\": 0},\n",
        "    ),\n",
        "]\n",
        "\n",
        "BODY = dbc.Container(\n",
        "    [\n",
        "        dbc.Row([dbc.Col(dbc.Card(TOP_BIGRAM_COMPS)),], style={\"marginTop\": 30}),\n",
        "        dbc.Row([dbc.Col(dbc.Card(TOP_BIGRAM_PLOT)),], style={\"marginTop\": 30}),\n",
        "        dbc.Row(\n",
        "            [\n",
        "                dbc.Col(LEFT_COLUMN, md=4, align=\"center\"),\n",
        "                dbc.Col(dbc.Card(TOP_BANKS_PLOT), md=8),\n",
        "            ],\n",
        "            style={\"marginTop\": 30},\n",
        "        ),\n",
        "        dbc.Card(WORDCLOUD_PLOTS),\n",
        "        dbc.Row([dbc.Col([dbc.Card(LDA_PLOTS)])], style={\"marginTop\": 50}),\n",
        "    ],\n",
        "    className=\"mt-12\",\n",
        ")\n"
      ],
      "metadata": {
        "id": "9fQHS556JCIr"
      },
      "execution_count": 84,
      "outputs": []
    },
    {
      "cell_type": "code",
      "source": [
        "app.layout = html.Div(children=[NAVBAR, BODY])\n",
        "\n",
        "\"\"\"\n",
        "#  Callbacks\n",
        "\"\"\"\n",
        "\n",
        "\n",
        "@app.callback(\n",
        "    Output(\"bigrams-scatter\", \"figure\"), [Input(\"bigrams-perplex-dropdown\", \"value\")],\n",
        ")\n",
        "def populate_bigram_scatter(perplexity):\n",
        "    X_embedded = TSNE(n_components=2, perplexity=perplexity).fit_transform(vects_df)\n",
        "\n",
        "    embed_df[\"tsne_1\"] = X_embedded[:, 0]\n",
        "    embed_df[\"tsne_2\"] = X_embedded[:, 1]\n",
        "    fig = px.scatter(\n",
        "        embed_df,\n",
        "        x=\"tsne_1\",\n",
        "        y=\"tsne_2\",\n",
        "        hover_name=\"bigram\",\n",
        "        text=\"bigram\",\n",
        "        size=\"count\",\n",
        "        color=\"words\",\n",
        "        size_max=45,\n",
        "        template=\"plotly_white\",\n",
        "        title=\"Bigram similarity and frequency\",\n",
        "        labels={\"words\": \"Count<BR>(words)\"},\n",
        "        color_continuous_scale=px.colors.sequential.Sunsetdark,\n",
        "    )\n",
        "    fig.update_traces(marker=dict(line=dict(width=1, color=\"Gray\")))\n",
        "    fig.update_xaxes(visible=False)\n",
        "    fig.update_yaxes(visible=False)\n",
        "    return fig\n",
        "\n",
        "\n",
        "@app.callback(\n",
        "    Output(\"bigrams-comps\", \"figure\"),\n",
        "    [Input(\"bigrams-comp_1\", \"value\"), Input(\"bigrams-comp_2\", \"value\")],\n",
        ")\n",
        "def comp_bigram_comparisons(comp_first, comp_second):\n",
        "    comp_list = [comp_first, comp_second]\n",
        "    temp_df = bigram_df[bigram_df.company.isin(comp_list)]\n",
        "    temp_df.loc[temp_df.company == comp_list[-1], \"value\"] = -temp_df[\n",
        "        temp_df.company == comp_list[-1]\n",
        "    ].value.values\n",
        "\n",
        "    fig = px.bar(\n",
        "        temp_df,\n",
        "        title=\"Comparison: \" + comp_first + \" | \" + comp_second,\n",
        "        x=\"ngram\",\n",
        "        y=\"value\",\n",
        "        color=\"company\",\n",
        "        template=\"plotly_white\",\n",
        "        color_discrete_sequence=px.colors.qualitative.Bold,\n",
        "        labels={\"company\": \"variat°:\", \"ngram\": \"N-Gram\"},\n",
        "        hover_data=\"\",\n",
        "    )\n",
        "    fig.update_layout(legend=dict(x=0.1, y=1.1), legend_orientation=\"h\")\n",
        "    fig.update_yaxes(title=\"\", showticklabels=False)\n",
        "    fig.data[0][\"hovertemplate\"] = fig.data[0][\"hovertemplate\"][:-14]\n",
        "    return fig\n",
        "\n",
        "\n",
        "@app.callback(\n",
        "    [\n",
        "        Output(\"time-window-slider\", \"marks\"),\n",
        "        Output(\"time-window-slider\", \"min\"),\n",
        "        Output(\"time-window-slider\", \"max\"),\n",
        "        Output(\"time-window-slider\", \"step\"),\n",
        "        Output(\"time-window-slider\", \"value\"),\n",
        "    ],\n",
        "    [Input(\"n-selection-slider\", \"value\")],\n",
        ")\n",
        "def populate_time_slider(value):\n",
        "    \"\"\"\n",
        "    Depending on our dataset, we need to populate the time-slider\n",
        "    with different ranges. This function does that and returns the\n",
        "    needed data to the time-window-slider.\n",
        "    \"\"\"\n",
        "    value += 0\n",
        "    min_date = reviews_df[\"Date received\"].min()\n",
        "    max_date = reviews_df[\"Date received\"].max()\n",
        "\n",
        "    marks = make_marks_time_slider(min_date, max_date)\n",
        "    min_epoch = list(marks.keys())[0]\n",
        "    max_epoch = list(marks.keys())[-1]\n",
        "\n",
        "    return (\n",
        "        marks,\n",
        "        min_epoch,\n",
        "        max_epoch,\n",
        "        (max_epoch - min_epoch) / (len(list(marks.keys())) * 3),\n",
        "        [min_epoch, max_epoch],\n",
        "    )\n",
        "\n",
        "\n",
        "@app.callback(\n",
        "    Output(\"bank-drop\", \"options\"),\n",
        "    [Input(\"time-window-slider\", \"value\"), Input(\"n-selection-slider\", \"value\")],\n",
        ")\n",
        "def populate_bank_dropdown(time_values, n_value):\n",
        "    \"\"\" TODO \"\"\"\n",
        "    print(\"variation-drop: TODO USE THE TIME VALUES AND N-SLIDER TO LIMIT THE DATASET\")\n",
        "    if time_values is not None:\n",
        "        pass\n",
        "    n_value += 1\n",
        "    bank_names, counts = get_complaint_count_by_company(reviews_df)\n",
        "    counts.append(1)\n",
        "    return make_options_bank_drop(bank_names)\n",
        "\n",
        "\n",
        "@app.callback(\n",
        "    [Output(\"bank-sample\", \"figure\"), Output(\"no-data-alert-bank\", \"style\")],\n",
        "    [Input(\"n-selection-slider\", \"value\"), Input(\"time-window-slider\", \"value\")],\n",
        ")\n",
        "def update_bank_sample_plot(n_value, time_values):\n",
        "    \"\"\" TODO \"\"\"\n",
        "    print(\"redrawing variation-sample...\")\n",
        "    print(\"\\tn is:\", n_value)\n",
        "    print(\"\\ttime_values is:\", time_values)\n",
        "    if time_values is None:\n",
        "        return [{}, {\"display\": \"block\"}]\n",
        "    n_float = float(n_value / 100)\n",
        "    bank_sample_count = 10\n",
        "    local_df = sample_data(reviews_df, n_float)\n",
        "    min_date, max_date = time_slider_to_date(time_values)\n",
        "    values_sample, counts_sample = calculate_bank_sample_data(\n",
        "        local_df, bank_sample_count, [min_date, max_date]\n",
        "    )\n",
        "    data = [\n",
        "        {\n",
        "            \"x\": values_sample,\n",
        "            \"y\": counts_sample,\n",
        "            \"text\": values_sample,\n",
        "            \"textposition\": \"auto\",\n",
        "            \"type\": \"bar\",\n",
        "            \"name\": \"\",\n",
        "        }\n",
        "    ]\n",
        "    layout = {\n",
        "        \"autosize\": False,\n",
        "        \"margin\": dict(t=10, b=10, l=40, r=0, pad=4),\n",
        "        \"xaxis\": {\"showticklabels\": False},\n",
        "    }\n",
        "    print(\"redrawing variation-sample...done\")\n",
        "    return [{\"data\": data, \"layout\": layout}, {\"display\": \"none\"}]\n",
        "\n",
        "\n",
        "@app.callback(\n",
        "    [\n",
        "        Output(\"lda-table\", \"data\"),\n",
        "        Output(\"lda-table\", \"columns\"),\n",
        "        Output(\"tsne-lda\", \"figure\"),\n",
        "        Output(\"no-data-alert-lda\", \"style\"),\n",
        "    ],\n",
        "    [Input(\"bank-drop\", \"value\"), Input(\"time-window-slider\", \"value\")],\n",
        ")\n",
        "def update_lda_table(selected_bank, time_values):\n",
        "    \"\"\" Update LDA table and scatter plot based on precomputed data \"\"\"\n",
        "\n",
        "    if selected_bank in PRECOMPUTED_LDA:\n",
        "        df_dominant_topic = pd.read_json(\n",
        "            PRECOMPUTED_LDA[selected_bank][\"df_dominant_topic\"]\n",
        "        )\n",
        "        tsne_df = pd.read_json(PRECOMPUTED_LDA[selected_bank][\"tsne_df\"])\n",
        "        df_top3words = pd.read_json(PRECOMPUTED_LDA[selected_bank][\"df_top3words\"])\n",
        "    else:\n",
        "        return [[], [], {}, {}]\n",
        "\n",
        "    lda_scatter_figure = populate_lda_scatter(tsne_df, df_top3words, df_dominant_topic)\n",
        "\n",
        "    columns = [{\"name\": i, \"id\": i} for i in df_dominant_topic.columns]\n",
        "    data = df_dominant_topic.to_dict(\"records\")\n",
        "\n",
        "    return (data, columns, lda_scatter_figure, {\"display\": \"none\"})\n",
        "\n",
        "\n",
        "@app.callback(\n",
        "    [\n",
        "        Output(\"bank-wordcloud\", \"figure\"),\n",
        "        Output(\"frequency_figure\", \"figure\"),\n",
        "        Output(\"bank-treemap\", \"figure\"),\n",
        "        Output(\"no-data-alert\", \"style\"),\n",
        "    ],\n",
        "    [\n",
        "        Input(\"bank-drop\", \"value\"),\n",
        "        Input(\"time-window-slider\", \"value\"),\n",
        "        Input(\"n-selection-slider\", \"value\"),\n",
        "    ],\n",
        ")\n",
        "def update_wordcloud_plot(value_drop, time_values, n_selection):\n",
        "    \"\"\" Callback to rerender wordcloud plot \"\"\"\n",
        "    local_df = make_local_df(value_drop, time_values, n_selection)\n",
        "    wordcloud, frequency_figure, treemap = plotly_wordcloud(local_df)\n",
        "    alert_style = {\"display\": \"none\"}\n",
        "    if (wordcloud == {}) or (frequency_figure == {}) or (treemap == {}):\n",
        "        alert_style = {\"display\": \"block\"}\n",
        "    print(\"redrawing variation wordcloud...done\")\n",
        "    return (wordcloud, frequency_figure, treemap, alert_style)\n",
        "\n",
        "\n",
        "@app.callback(\n",
        "    [Output(\"lda-table\", \"filter_query\"), Output(\"lda-table-block\", \"style\")],\n",
        "    [Input(\"tsne-lda\", \"clickData\")],\n",
        "    [State(\"lda-table\", \"filter_query\")],\n",
        ")\n",
        "def filter_table_on_scatter_click(tsne_click, current_filter):\n",
        "    \"\"\" TODO \"\"\"\n",
        "    if tsne_click is not None:\n",
        "        selected_complaint = tsne_click[\"points\"][0][\"hovertext\"]\n",
        "        if current_filter != \"\":\n",
        "            filter_query = (\n",
        "                \"({Document_No} eq \"\n",
        "                + str(selected_complaint)\n",
        "                + \") || (\"\n",
        "                + current_filter\n",
        "                + \")\"\n",
        "            )\n",
        "        else:\n",
        "            filter_query = \"{Document_No} eq \" + str(selected_complaint)\n",
        "        print(\"current_filter\", current_filter)\n",
        "        return (filter_query, {\"display\": \"block\"})\n",
        "    return [\"\", {\"display\": \"none\"}]\n",
        "\n",
        "\n",
        "@app.callback(Output(\"bank-drop\", \"value\"), [Input(\"bank-sample\", \"clickData\")])\n",
        "def update_bank_drop_on_click(value):\n",
        "    \"\"\" TODO \"\"\"\n",
        "    if value is not None:\n",
        "        selected_bank = value[\"points\"][0][\"x\"]\n",
        "        return selected_bank\n",
        "    return \"Charcoal Fabric\"\n",
        "\n"
      ],
      "metadata": {
        "id": "qKGASntOOr0v"
      },
      "execution_count": 85,
      "outputs": []
    },
    {
      "cell_type": "code",
      "source": [
        "if __name__ == \"__main__\":\n",
        "    #app.run_server(mode= 'inline')\n",
        "    app.run_server(debug=True ,use_reloader=False)"
      ],
      "metadata": {
        "id": "u7fiQr2KuSHL",
        "colab": {
          "base_uri": "https://localhost:8080/",
          "height": 53
        },
        "outputId": "ee19d5c2-c09f-4934-f0b2-038b6907cf7c"
      },
      "execution_count": 86,
      "outputs": [
        {
          "output_type": "stream",
          "name": "stdout",
          "text": [
            "Dash app running on:\n"
          ]
        },
        {
          "output_type": "display_data",
          "data": {
            "text/plain": [
              "<IPython.core.display.Javascript object>"
            ],
            "application/javascript": [
              "(async (port, path, text, element) => {\n",
              "    if (!google.colab.kernel.accessAllowed) {\n",
              "      return;\n",
              "    }\n",
              "    element.appendChild(document.createTextNode(''));\n",
              "    const url = await google.colab.kernel.proxyPort(port);\n",
              "    const anchor = document.createElement('a');\n",
              "    anchor.href = new URL(path, url).toString();\n",
              "    anchor.target = '_blank';\n",
              "    anchor.setAttribute('data-href', url + path);\n",
              "    anchor.textContent = text;\n",
              "    element.appendChild(anchor);\n",
              "  })(8050, \"/\", \"http://127.0.0.1:8050/\", window.element)"
            ]
          },
          "metadata": {}
        }
      ]
    },
    {
      "cell_type": "code",
      "source": [
        "\n",
        "embed_df.to_csv('/content/drive/MyDrive/Dash_plotly_home/embed_df_n.csv',index = False)\n",
        "files.download('/content/drive/MyDrive/Dash_plotly_home/embed_df_n.csv')\n",
        "!cp -r \"/content/drive/MyDrive/Dash_plotly_home/embed_df_n.csv\" \"/content/drive/MyDrive/Dash_plotly_home/\"\n",
        "\n",
        "bigram_df.to_csv('/content/drive/MyDrive/Dash_plotly_home/bigram_df_n.csv',index = False)\n",
        "files.download('/content/drive/MyDrive/Dash_plotly_home/bigram_df_n.csv')\n",
        "!cp -r \"/content/drive/MyDrive/Dash_plotly_home/bigram_df_n.csv\" \"/content/drive/MyDrive/Dash_plotly_home/\""
      ],
      "metadata": {
        "colab": {
          "base_uri": "https://localhost:8080/",
          "height": 53
        },
        "id": "vY49D-M7miLx",
        "outputId": "bdbfb5bf-fa57-4176-a40b-d1b2a9db8177"
      },
      "execution_count": 87,
      "outputs": [
        {
          "output_type": "display_data",
          "data": {
            "text/plain": [
              "<IPython.core.display.Javascript object>"
            ],
            "application/javascript": [
              "\n",
              "    async function download(id, filename, size) {\n",
              "      if (!google.colab.kernel.accessAllowed) {\n",
              "        return;\n",
              "      }\n",
              "      const div = document.createElement('div');\n",
              "      const label = document.createElement('label');\n",
              "      label.textContent = `Downloading \"${filename}\": `;\n",
              "      div.appendChild(label);\n",
              "      const progress = document.createElement('progress');\n",
              "      progress.max = size;\n",
              "      div.appendChild(progress);\n",
              "      document.body.appendChild(div);\n",
              "\n",
              "      const buffers = [];\n",
              "      let downloaded = 0;\n",
              "\n",
              "      const channel = await google.colab.kernel.comms.open(id);\n",
              "      // Send a message to notify the kernel that we're ready.\n",
              "      channel.send({})\n",
              "\n",
              "      for await (const message of channel.messages) {\n",
              "        // Send a message to notify the kernel that we're ready.\n",
              "        channel.send({})\n",
              "        if (message.buffers) {\n",
              "          for (const buffer of message.buffers) {\n",
              "            buffers.push(buffer);\n",
              "            downloaded += buffer.byteLength;\n",
              "            progress.value = downloaded;\n",
              "          }\n",
              "        }\n",
              "      }\n",
              "      const blob = new Blob(buffers, {type: 'application/binary'});\n",
              "      const a = document.createElement('a');\n",
              "      a.href = window.URL.createObjectURL(blob);\n",
              "      a.download = filename;\n",
              "      div.appendChild(a);\n",
              "      a.click();\n",
              "      div.remove();\n",
              "    }\n",
              "  "
            ]
          },
          "metadata": {}
        },
        {
          "output_type": "display_data",
          "data": {
            "text/plain": [
              "<IPython.core.display.Javascript object>"
            ],
            "application/javascript": [
              "download(\"download_7a5a4727-9201-454d-a21f-8aeb2e19e79f\", \"embed_df_n.csv\", 404)"
            ]
          },
          "metadata": {}
        },
        {
          "output_type": "stream",
          "name": "stdout",
          "text": [
            "cp: '/content/drive/MyDrive/Dash_plotly_home/embed_df_n.csv' and '/content/drive/MyDrive/Dash_plotly_home/embed_df_n.csv' are the same file\n"
          ]
        },
        {
          "output_type": "display_data",
          "data": {
            "text/plain": [
              "<IPython.core.display.Javascript object>"
            ],
            "application/javascript": [
              "\n",
              "    async function download(id, filename, size) {\n",
              "      if (!google.colab.kernel.accessAllowed) {\n",
              "        return;\n",
              "      }\n",
              "      const div = document.createElement('div');\n",
              "      const label = document.createElement('label');\n",
              "      label.textContent = `Downloading \"${filename}\": `;\n",
              "      div.appendChild(label);\n",
              "      const progress = document.createElement('progress');\n",
              "      progress.max = size;\n",
              "      div.appendChild(progress);\n",
              "      document.body.appendChild(div);\n",
              "\n",
              "      const buffers = [];\n",
              "      let downloaded = 0;\n",
              "\n",
              "      const channel = await google.colab.kernel.comms.open(id);\n",
              "      // Send a message to notify the kernel that we're ready.\n",
              "      channel.send({})\n",
              "\n",
              "      for await (const message of channel.messages) {\n",
              "        // Send a message to notify the kernel that we're ready.\n",
              "        channel.send({})\n",
              "        if (message.buffers) {\n",
              "          for (const buffer of message.buffers) {\n",
              "            buffers.push(buffer);\n",
              "            downloaded += buffer.byteLength;\n",
              "            progress.value = downloaded;\n",
              "          }\n",
              "        }\n",
              "      }\n",
              "      const blob = new Blob(buffers, {type: 'application/binary'});\n",
              "      const a = document.createElement('a');\n",
              "      a.href = window.URL.createObjectURL(blob);\n",
              "      a.download = filename;\n",
              "      div.appendChild(a);\n",
              "      a.click();\n",
              "      div.remove();\n",
              "    }\n",
              "  "
            ]
          },
          "metadata": {}
        },
        {
          "output_type": "display_data",
          "data": {
            "text/plain": [
              "<IPython.core.display.Javascript object>"
            ],
            "application/javascript": [
              "download(\"download_8be68f5d-db26-4c26-bd54-b9d3a112dc97\", \"bigram_df_n.csv\", 765875)"
            ]
          },
          "metadata": {}
        },
        {
          "output_type": "stream",
          "name": "stdout",
          "text": [
            "cp: '/content/drive/MyDrive/Dash_plotly_home/bigram_df_n.csv' and '/content/drive/MyDrive/Dash_plotly_home/bigram_df_n.csv' are the same file\n"
          ]
        }
      ]
    },
    {
      "cell_type": "markdown",
      "source": [],
      "metadata": {
        "id": "vnmtDNyLmhro"
      }
    }
  ],
  "metadata": {
    "accelerator": "GPU",
    "colab": {
      "provenance": []
    },
    "kernelspec": {
      "display_name": "Python 3.9.7 ('base')",
      "language": "python",
      "name": "python3"
    },
    "language_info": {
      "codemirror_mode": {
        "name": "ipython",
        "version": 3
      },
      "file_extension": ".py",
      "mimetype": "text/x-python",
      "name": "python",
      "nbconvert_exporter": "python",
      "pygments_lexer": "ipython3",
      "version": "3.9.7"
    },
    "vscode": {
      "interpreter": {
        "hash": "ad88f0db3467f5864ea1db9ef7250ec56abf639c4f9456de0b73450094059d1d"
      }
    },
    "gpuClass": "standard"
  },
  "nbformat": 4,
  "nbformat_minor": 0
}